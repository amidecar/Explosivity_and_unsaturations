{
 "cells": [
  {
   "cell_type": "markdown",
   "id": "709d4f2b-d5b9-415d-b6c8-091fa94025f6",
   "metadata": {},
   "source": [
    "# Explosivity and unsaturations"
   ]
  },
  {
   "cell_type": "markdown",
   "id": "8a6379e5-b2d6-4486-8276-29b27fbf0e25",
   "metadata": {},
   "source": [
    "intro sur le projeej XXX"
   ]
  },
  {
   "cell_type": "markdown",
   "id": "c6d02ff0-3574-47de-a5aa-f3e1d14b61d6",
   "metadata": {},
   "source": [
    "# Getting molecular smiles from the iupac name"
   ]
  },
  {
   "cell_type": "markdown",
   "id": "c9817e54-2ffd-47f8-b7c5-83932cdc3f83",
   "metadata": {},
   "source": [
    "Smiles are very practical from a programming point of view, they are very easy for a machine to interprate. For a person, not so much, a chemist generally knows substances by their name. For this reason, it's important to give the possibility to input the IUPAC name of a molecule. The function takes as an input the name of the molecule on the form a string and returns its smiles"
   ]
  },
  {
   "cell_type": "code",
   "execution_count": 1,
   "id": "beda8413-b836-4701-b50c-f18398b2246f",
   "metadata": {},
   "outputs": [],
   "source": [
    "#Let's import the function\n",
    "from explosivity_and_unsaturations import iupac_to_smiles"
   ]
  },
  {
   "cell_type": "markdown",
   "id": "baa75e69-0baf-4583-8997-48aa738644a4",
   "metadata": {},
   "source": [
    "This function is a bit particular, since it relies on the internet to give back a result. In fact, it utilizes the data on https://cactus.nci.nih.gov/chemical/structure. In theory the function could also have been made with our own database, but its much easier to use a prexisting one.\n",
    "Let's try hit for a few known compounds and gibberish, to see if it gives back an error:"
   ]
  },
  {
   "cell_type": "code",
   "execution_count": 2,
   "id": "66b6864f-2759-452a-9b8a-8b342408b814",
   "metadata": {},
   "outputs": [
    {
     "name": "stdout",
     "output_type": "stream",
     "text": [
      "O\n",
      "CCO\n",
      "c1ccccc1\n",
      "CC(O)=O\n",
      "C1CCCC1\n",
      "Error: HTTP Error 500: INTERNAL SERVER ERROR\n",
      "Unable to convert IUPAC name to SMILES\n"
     ]
    }
   ],
   "source": [
    "print(iupac_to_smiles(\"water\"))\n",
    "print(iupac_to_smiles(\"ethanol\"))\n",
    "print(iupac_to_smiles(\"benzene\"))\n",
    "print(iupac_to_smiles(\"acetic acid\"))\n",
    "print(iupac_to_smiles(\"cyclopentane\"))\n",
    "print(iupac_to_smiles(\"etcestcommecaquejeej\"))"
   ]
  },
  {
   "cell_type": "markdown",
   "id": "7a3c3fbf-b58e-4d1c-b5cc-65105c9c07a8",
   "metadata": {},
   "source": [
    "The function seems to work as expected: a IUPAC name is given to it and it returns the smiles. If the name doesn' exist, it rises an error."
   ]
  },
  {
   "cell_type": "markdown",
   "id": "8346acd5-3c92-47f3-b73e-77f3d09760e1",
   "metadata": {},
   "source": [
    "# Canonicalize the molecule' smiles "
   ]
  },
  {
   "cell_type": "code",
   "execution_count": 3,
   "id": "9e7901b4-7a76-46ef-9e18-7b4caf04f893",
   "metadata": {},
   "outputs": [],
   "source": [
    "#Let's import the function named canonicalize_smiles\n",
    "from explosivity_and_unsaturations import canonicalize_smiles"
   ]
  },
  {
   "cell_type": "markdown",
   "id": "45a03ceb-a385-4943-9ded-5cc76acde300",
   "metadata": {},
   "source": [
    "This function accepts a smiles string, and an optional boolean to know if python should raise an error box popup. Do not set the second argument to True in a Jupyter notebook !\n",
    "\n"
   ]
  },
  {
   "cell_type": "markdown",
   "id": "ffd14ccf-b235-46d4-82b7-195188eee1e0",
   "metadata": {},
   "source": [
    "There are many ways to encode a molecule with a smiles.\n",
    "\n",
    "For example, we could encode carbon dioxyde with \"O=C=O\", or with \"C(=O)=O\"\n",
    "\n",
    "To make some order, and to reject smiles of the wrong format by raising errors. Canonicalization takes a smiles and transforms it into the standard notation smiles."
   ]
  },
  {
   "cell_type": "markdown",
   "id": "b40d23ac-4779-40d4-90e8-e25961b92b3e",
   "metadata": {},
   "source": [
    "Lets try our smiles for carbon dioxide"
   ]
  },
  {
   "cell_type": "code",
   "execution_count": 4,
   "id": "9012f14e-88c5-4ebc-bc81-655c116b4d01",
   "metadata": {},
   "outputs": [
    {
     "name": "stdout",
     "output_type": "stream",
     "text": [
      "O=C=O\n",
      "O=C=O\n"
     ]
    }
   ],
   "source": [
    "print(canonicalize_smiles(\"O=C=O\"))\n",
    "print(canonicalize_smiles(\"C(=O)=O\"))"
   ]
  },
  {
   "cell_type": "markdown",
   "id": "9b4d60f1-fa49-4484-a2c4-88ee47ca4778",
   "metadata": {},
   "source": [
    "The two smiles depicting the same molecule was transformed into a single one\n",
    "\n",
    "Lets try with gibberish"
   ]
  },
  {
   "cell_type": "code",
   "execution_count": 5,
   "id": "eda85672-1d06-4f8c-a13e-0dc6d6bbcd68",
   "metadata": {},
   "outputs": [
    {
     "name": "stderr",
     "output_type": "stream",
     "text": [
      "[22:52:22] SMILES Parse Error: syntax error while parsing: ghqgzcf\n",
      "[22:52:22] SMILES Parse Error: Failed parsing SMILES 'ghqgzcf' for input: 'ghqgzcf'\n"
     ]
    },
    {
     "ename": "ValueError",
     "evalue": "Could not convert input to mol",
     "output_type": "error",
     "traceback": [
      "\u001b[1;31m---------------------------------------------------------------------------\u001b[0m",
      "\u001b[1;31mValueError\u001b[0m                                Traceback (most recent call last)",
      "Cell \u001b[1;32mIn[5], line 1\u001b[0m\n\u001b[1;32m----> 1\u001b[0m \u001b[43mcanonicalize_smiles\u001b[49m\u001b[43m(\u001b[49m\u001b[38;5;124;43m\"\u001b[39;49m\u001b[38;5;124;43mghqgzcf\u001b[39;49m\u001b[38;5;124;43m\"\u001b[39;49m\u001b[43m)\u001b[49m\n",
      "File \u001b[1;32m~\\teste\\Projeej\\src\\explosivity_and_unsaturations\\example_module.py:65\u001b[0m, in \u001b[0;36mcanonicalize_smiles\u001b[1;34m(smiles, ismain)\u001b[0m\n\u001b[0;32m     63\u001b[0m     \u001b[38;5;28;01mif\u001b[39;00m ismain:\n\u001b[0;32m     64\u001b[0m         messagebox\u001b[38;5;241m.\u001b[39mshowerror(\u001b[38;5;124m'\u001b[39m\u001b[38;5;124mWarning!\u001b[39m\u001b[38;5;124m'\u001b[39m, \u001b[38;5;124m\"\u001b[39m\u001b[38;5;124mCould not convert input to mol\u001b[39m\u001b[38;5;124m\"\u001b[39m)\n\u001b[1;32m---> 65\u001b[0m     \u001b[38;5;28;01mraise\u001b[39;00m \u001b[38;5;167;01mValueError\u001b[39;00m(\u001b[38;5;124m\"\u001b[39m\u001b[38;5;124mCould not convert input to mol\u001b[39m\u001b[38;5;124m\"\u001b[39m)\n\u001b[0;32m     66\u001b[0m \u001b[38;5;28;01mreturn\u001b[39;00m Chem\u001b[38;5;241m.\u001b[39mMolToSmiles(mol)\n",
      "\u001b[1;31mValueError\u001b[0m: Could not convert input to mol"
     ]
    }
   ],
   "source": [
    "canonicalize_smiles(\"ghqgzcf\")"
   ]
  },
  {
   "cell_type": "markdown",
   "id": "8445a179-560f-4b00-b87e-123a3ab20704",
   "metadata": {},
   "source": [
    "Good, an error is raised.\n",
    "\n",
    "Trying with an impossible moecule \"C=O=O\"\n"
   ]
  },
  {
   "cell_type": "code",
   "execution_count": 6,
   "id": "c17058d8-c19e-4e7f-9198-5122e7a268ba",
   "metadata": {},
   "outputs": [
    {
     "name": "stderr",
     "output_type": "stream",
     "text": [
      "[22:52:23] Explicit valence for atom # 1 O, 4, is greater than permitted\n"
     ]
    },
    {
     "ename": "ValueError",
     "evalue": "Could not convert input to mol",
     "output_type": "error",
     "traceback": [
      "\u001b[1;31m---------------------------------------------------------------------------\u001b[0m",
      "\u001b[1;31mValueError\u001b[0m                                Traceback (most recent call last)",
      "Cell \u001b[1;32mIn[6], line 1\u001b[0m\n\u001b[1;32m----> 1\u001b[0m \u001b[43mcanonicalize_smiles\u001b[49m\u001b[43m(\u001b[49m\u001b[38;5;124;43m\"\u001b[39;49m\u001b[38;5;124;43mC=O=O\u001b[39;49m\u001b[38;5;124;43m\"\u001b[39;49m\u001b[43m)\u001b[49m\n",
      "File \u001b[1;32m~\\teste\\Projeej\\src\\explosivity_and_unsaturations\\example_module.py:65\u001b[0m, in \u001b[0;36mcanonicalize_smiles\u001b[1;34m(smiles, ismain)\u001b[0m\n\u001b[0;32m     63\u001b[0m     \u001b[38;5;28;01mif\u001b[39;00m ismain:\n\u001b[0;32m     64\u001b[0m         messagebox\u001b[38;5;241m.\u001b[39mshowerror(\u001b[38;5;124m'\u001b[39m\u001b[38;5;124mWarning!\u001b[39m\u001b[38;5;124m'\u001b[39m, \u001b[38;5;124m\"\u001b[39m\u001b[38;5;124mCould not convert input to mol\u001b[39m\u001b[38;5;124m\"\u001b[39m)\n\u001b[1;32m---> 65\u001b[0m     \u001b[38;5;28;01mraise\u001b[39;00m \u001b[38;5;167;01mValueError\u001b[39;00m(\u001b[38;5;124m\"\u001b[39m\u001b[38;5;124mCould not convert input to mol\u001b[39m\u001b[38;5;124m\"\u001b[39m)\n\u001b[0;32m     66\u001b[0m \u001b[38;5;28;01mreturn\u001b[39;00m Chem\u001b[38;5;241m.\u001b[39mMolToSmiles(mol)\n",
      "\u001b[1;31mValueError\u001b[0m: Could not convert input to mol"
     ]
    }
   ],
   "source": [
    "canonicalize_smiles(\"C=O=O\")"
   ]
  },
  {
   "cell_type": "markdown",
   "id": "cf437235-203c-4be1-8985-a995a1b0ad48",
   "metadata": {},
   "source": [
    "If the valence is not respected, the error is raised."
   ]
  },
  {
   "cell_type": "code",
   "execution_count": 7,
   "id": "b2332718-0f1b-4341-a78b-0a72d68fa4bf",
   "metadata": {},
   "outputs": [
    {
     "data": {
      "text/plain": [
       "'C=[O+2]=O'"
      ]
     },
     "execution_count": 7,
     "metadata": {},
     "output_type": "execute_result"
    }
   ],
   "source": [
    "canonicalize_smiles(\"C=[O++]=O\")"
   ]
  },
  {
   "cell_type": "markdown",
   "id": "5ad186d5-4073-4508-a7b4-976cf6ba13d2",
   "metadata": {},
   "source": [
    "Now it works, because the charge is respected"
   ]
  },
  {
   "cell_type": "markdown",
   "id": "1c67a5fa-39bf-4337-8d25-2cb04c1db3c1",
   "metadata": {},
   "source": [
    "# Finding special explosible groups and unsaturations"
   ]
  },
  {
   "cell_type": "code",
   "execution_count": 8,
   "id": "1908e0d4-86c3-4a9a-8f63-a69ae24b82c8",
   "metadata": {},
   "outputs": [],
   "source": [
    "from explosivity_and_unsaturations import findgroups, findinsaturation\n",
    "# Importing our two functions"
   ]
  },
  {
   "cell_type": "markdown",
   "id": "ae8427ac-26bb-4e2d-b9f2-3d66ce63c11e",
   "metadata": {},
   "source": [
    "Those function accepts a molecule smiles\n",
    "\n",
    "The output for *findgroups* is a tuple with a dictionary and a counter: (dict, number)\n",
    "\n",
    "The dictionary has for keys the *SMARTS* of the groups of interests (unsaturations and explosible groups), and for values tuples containing the indexes of the found insaturations atoms involved in the unsaturations and explosible groups\n",
    "\n",
    "The counter is the number of fragments found to be explosible.\n",
    "\n",
    "*findinsaturation* only returns a dictionary\n"
   ]
  },
  {
   "cell_type": "markdown",
   "id": "daa59d05-e628-4bf0-8811-c3dc4620f7e2",
   "metadata": {},
   "source": [
    "Let's try those functions on the nitrotetrazole molecule of smiles \"C1=NN=NN1\\[N+](=O)[O-]\" "
   ]
  },
  {
   "cell_type": "code",
   "execution_count": 9,
   "id": "ef0d1e29-44e5-42a6-bfcf-0d98499a6c53",
   "metadata": {},
   "outputs": [
    {
     "data": {
      "image/png": "[encoded data removed]",
      "text/plain": [
       "<rdkit.Chem.rdchem.Mol at 0x1bc81a0d3f0>"
      ]
     },
     "execution_count": 9,
     "metadata": {},
     "output_type": "execute_result"
    }
   ],
   "source": [
    "# Making sure to be able to display the molecule\n",
    "from rdkit import Chem\n",
    "from rdkit.Chem.Draw import IPythonConsole\n",
    "from rdkit.Chem import Draw\n",
    "IPythonConsole.molSize = 300,300\n",
    "\n",
    "smiles = \"C1=NN=NN1[N+](=O)[O-]\"\n",
    "# This is the smiles for nitrotetrazole\n",
    "mol = Chem.MolFromSmiles(smiles)\n",
    "# Creating the rdkit molecule object from the smiles\n",
    "mol"
   ]
  },
  {
   "cell_type": "markdown",
   "id": "d35fbe3f-eb36-42e4-89de-efabc3658071",
   "metadata": {},
   "source": [
    "We can graphicaly find the unsaturations and explosible groups in the molecule, but we can ask the function to make a dictionary to match for us the substructures."
   ]
  },
  {
   "cell_type": "code",
   "execution_count": 10,
   "id": "7ee68cb7-f613-4531-913d-9f227fab658b",
   "metadata": {},
   "outputs": [
    {
     "data": {
      "text/plain": [
       "{'[#6]#[#6]': (),\n",
       " '[#6]=[#6]-[#6]=[#6]': (),\n",
       " '[#6-]': (),\n",
       " '[#6]-[Mg]': (),\n",
       " '[#6]-[Li]': (),\n",
       " '[#6]-[Cu]': (),\n",
       " '[#6]-[Ni]': (),\n",
       " '[#7-]-[#7+]#[#7]': (),\n",
       " '[#7]=[#7+]=[#7-]': (),\n",
       " '[#7]-[#7+]=[#7-][#7]=[#7]': (),\n",
       " 'nn': ((1, 2), (2, 3), (3, 4)),\n",
       " '[#7-]#[#7]': (),\n",
       " '[#7]-[#7]': ((4, 5),),\n",
       " '[#8]-[#8]': (),\n",
       " '[#8]-[#8]-[#8]': (),\n",
       " '[#6]-1-[#8]-[#8]-[#6]-[#8]-1': (),\n",
       " '[#7]-[#8]': ((5, 7),),\n",
       " '[#7]=[#8]': ((5, 6),),\n",
       " '[#7]#[#8]': (),\n",
       " '[#7]-[I]': (),\n",
       " '[#7]-[Br]': (),\n",
       " '[#7]-[Cl]': (),\n",
       " '[#7]-[F]': (),\n",
       " '[#7]=[I]': (),\n",
       " '[#7]=[Br]': (),\n",
       " '[#7]=[Cl]': (),\n",
       " '[#7]=[F]': (),\n",
       " '[#8]-[I]': (),\n",
       " '[#8]-[F]': (),\n",
       " '[#8]-[Br]': (),\n",
       " '[#8]-[Cl]': (),\n",
       " '[#8]=[I]': (),\n",
       " '[#8]=[Br]': (),\n",
       " '[#8]=[Cl]': (),\n",
       " '[#8]=[F]': (),\n",
       " '[#6]#[#7+]-[#8-]': (),\n",
       " '[Ag+].[N-3]': ()}"
      ]
     },
     "execution_count": 10,
     "metadata": {},
     "output_type": "execute_result"
    }
   ],
   "source": [
    "dico,group_check = findgroups(smiles)\n",
    "dico"
   ]
  },
  {
   "cell_type": "code",
   "execution_count": 11,
   "id": "4425ad54-89db-4c2a-90a5-88557c0960d4",
   "metadata": {},
   "outputs": [
    {
     "name": "stdout",
     "output_type": "stream",
     "text": [
      "The number of found explosible fragments is 4\n"
     ]
    }
   ],
   "source": [
    "print(f\"The number of found explosible fragments is {group_check}\")"
   ]
  },
  {
   "cell_type": "markdown",
   "id": "6afca623-9aff-4f11-aac4-5eb6dc59832d",
   "metadata": {},
   "source": [
    "We can see that the dictionary is mostly empty, except for the *SMARTS* \n",
    "\n",
    "- nn = aromatic Nitrogen-Nitrogen bond\n",
    "- [#7]-[#8] = single Nitrogen-Oxygen bond\n",
    "- [#7]=[#8] = double Nitrogen-Oxygen bond\n",
    "- [#7]-[#7] = single Nitrogen-Nitrogen bond\n",
    "\n",
    "It also gets the number of found fragments, but it does not in general represent the number of single explosible groups"
   ]
  },
  {
   "cell_type": "markdown",
   "id": "ac01a796-a715-47e9-93ba-31ea3e01a673",
   "metadata": {},
   "source": [
    "Lets try the **findinsaturation** function on the same molecule"
   ]
  },
  {
   "cell_type": "code",
   "execution_count": 12,
   "id": "b6ba556f-068b-4827-80eb-34f8650afdfc",
   "metadata": {},
   "outputs": [
    {
     "data": {
      "text/plain": [
       "{'[*]=[*]': ((5, 6),),\n",
       " '[*]#[*]': (),\n",
       " 'aa': ((0, 1), (0, 4), (1, 2), (2, 3), (3, 4)),\n",
       " '[*]@[*]': ((0, 1), (0, 4), (1, 2), (2, 3), (3, 4))}"
      ]
     },
     "execution_count": 12,
     "metadata": {},
     "output_type": "execute_result"
    }
   ],
   "source": [
    "dico = findinsaturation(smiles)\n",
    "dico"
   ]
  },
  {
   "cell_type": "markdown",
   "id": "3665d071-a97f-43cc-a19c-74d17adc707e",
   "metadata": {},
   "source": [
    "The dictionary found double bonds and aromatic bonds. \n",
    "\n",
    "Why are the results for 'aa' and '[\\*]@[*]' the same ?\n",
    "\n",
    "'aa' is an aromatic bond under smiles notation, and '[\\*]@[*]' is aromatic under smarts notation.\n",
    "Like this no edge cases are missed. "
   ]
  },
  {
   "cell_type": "markdown",
   "id": "bdf2de69-710e-467d-89ae-151057a0765e",
   "metadata": {},
   "source": [
    "#### What groups can be found by *findgroups* ?"
   ]
  },
  {
   "cell_type": "markdown",
   "id": "6703136e-02c9-4f48-9e3d-2ef317b5aae5",
   "metadata": {},
   "source": [
    "The function can find:\n",
    "- acetylides\n",
    "- 1,3-dienes\n",
    "- Grignard and organilithium reagents\n",
    "- azide and azo compounds\n",
    "- diazonium salts\n",
    "- hydrazines\n",
    "- peroxides\n",
    "- ozodides\n",
    "- hydroxylamines\n",
    "- nitrates, nitrites\n",
    "- N-oxydes\n",
    "- oxazole\n",
    "- hypochlorites, chlorites, chlorates, perchlorates\n",
    "- fluoramines, chloramines, bromamines, iodamines\n",
    "- fulminates\n",
    "- silver nitride"
   ]
  },
  {
   "cell_type": "markdown",
   "id": "77f73e8f-deea-4e62-8af9-457759085f3c",
   "metadata": {},
   "source": [
    "# Highlighting groups of interest in the molecule"
   ]
  },
  {
   "cell_type": "code",
   "execution_count": 13,
   "id": "ff97bf8a-a880-4765-9533-1c80d0011e77",
   "metadata": {},
   "outputs": [],
   "source": [
    "from explosivity_and_unsaturations import highlightmol\n",
    "# Importing our function"
   ]
  },
  {
   "cell_type": "markdown",
   "id": "72feaf5d-67fe-414c-9eca-a87e5445f4e3",
   "metadata": {},
   "source": [
    "This function accepts for inputs the smiles of a molecule and a dictionary containing the indexes of atoms to highlight (the dictionary can be created by *findgroups* or *findinsaturation* functions of this package)\n",
    "\n",
    "The output is an image object with the atoms and their bounds highlighted in accordance to the dictionary"
   ]
  },
  {
   "cell_type": "markdown",
   "id": "dfe277c3-1f61-4326-b64a-387b40b4165d",
   "metadata": {},
   "source": [
    "Lets test a simple molecule, trinitrotoluene, of smiles \"Cc1c(cc(cc1\\[N+](=O)[O-])\\[N+](=O)[O-])\\[N+](=O)[O-]\""
   ]
  },
  {
   "cell_type": "code",
   "execution_count": 14,
   "id": "8d79a57f-e5ad-4cf9-a51d-8db0c1d4bf45",
   "metadata": {},
   "outputs": [
    {
     "data": {
      "image/png": "[encoded data removed]",
      "text/plain": [
       "<rdkit.Chem.rdchem.Mol at 0x1bc81a0db60>"
      ]
     },
     "execution_count": 14,
     "metadata": {},
     "output_type": "execute_result"
    }
   ],
   "source": [
    "# Making sure to be able to display the molecule\n",
    "from rdkit import Chem\n",
    "from rdkit.Chem.Draw import IPythonConsole\n",
    "from rdkit.Chem import Draw\n",
    "IPythonConsole.molSize = 300,300\n",
    "\n",
    "smiles = \"Cc1c(cc(cc1[N+](=O)[O-])[N+](=O)[O-])[N+](=O)[O-]\"\n",
    "# This is the smiles for nitrotetrazole\n",
    "mol = Chem.MolFromSmiles(smiles)\n",
    "# Creating the rdkit molecule object from the smiles\n",
    "mol"
   ]
  },
  {
   "cell_type": "markdown",
   "id": "c6b68ca3-ff66-4f12-9c1f-f78757e05e18",
   "metadata": {},
   "source": [
    "We want to highlight the explosible groups.\n",
    "\n",
    "Let's recall the dictionary created by *findgroups*:"
   ]
  },
  {
   "cell_type": "code",
   "execution_count": 15,
   "id": "99bc136c-64d0-4cb1-bdde-477693637d1b",
   "metadata": {},
   "outputs": [],
   "source": [
    "from explosivity_and_unsaturations import findgroups\n",
    "(dico,uselessvariable) = findgroups(smiles)"
   ]
  },
  {
   "cell_type": "markdown",
   "id": "4c6e65f2-d181-423a-8356-14ff358be263",
   "metadata": {},
   "source": [
    "Lets now create the image object"
   ]
  },
  {
   "cell_type": "code",
   "execution_count": 16,
   "id": "eca3d95d-f955-4053-ba4b-29b0a886ed37",
   "metadata": {},
   "outputs": [
    {
     "data": {
      "image/jpeg": "[encoded data removed]",
      "image/png": "[encoded data removed]",
      "text/plain": [
       "<PIL.PngImagePlugin.PngImageFile image mode=RGB size=300x300>"
      ]
     },
     "execution_count": 16,
     "metadata": {},
     "output_type": "execute_result"
    }
   ],
   "source": [
    "image = highlightmol(smiles, dico)\n",
    "image"
   ]
  },
  {
   "cell_type": "markdown",
   "id": "02087fc4-c303-4363-a939-3a18f8e1b784",
   "metadata": {},
   "source": [
    "#### What happens if two groups are next to one another ?"
   ]
  },
  {
   "cell_type": "markdown",
   "id": "6e3ddc5b-b881-4aa3-96ef-751e08b81fd7",
   "metadata": {},
   "source": [
    "Lets try a hypothetical molecule to see of the bonds get highlighted at the wrong place"
   ]
  },
  {
   "cell_type": "code",
   "execution_count": 17,
   "id": "c12a4b51-82fb-4412-b3d4-7e5edd93747b",
   "metadata": {},
   "outputs": [
    {
     "data": {
      "image/jpeg": "[encoded data removed]",
      "image/png": "[encoded data removed]",
      "text/plain": [
       "<PIL.PngImagePlugin.PngImageFile image mode=RGB size=300x300>"
      ]
     },
     "execution_count": 17,
     "metadata": {},
     "output_type": "execute_result"
    }
   ],
   "source": [
    "smiles = \"C(#[N+][O-])[N+](=O)[O-]\"\n",
    "(dico,uselessvalue) = findgroups(smiles)\n",
    "image = highlightmol(smiles, dico)\n",
    "image"
   ]
  },
  {
   "cell_type": "markdown",
   "id": "9869bcda-4f44-48df-844a-78b3f459c4a0",
   "metadata": {},
   "source": [
    "We can see that even if all the atoms are highlighted, not all bonds are. This permits us to visualise the different groups found, in this case a fulminate group and a nitro group"
   ]
  },
  {
   "cell_type": "markdown",
   "id": "a87d5ee8-fb89-4210-98be-7e4bc0dd62fd",
   "metadata": {},
   "source": [
    "# Determine if an atom object is a metal"
   ]
  },
  {
   "cell_type": "code",
   "execution_count": 18,
   "id": "ac54539d-deac-4055-8ea8-b45c09c74aa0",
   "metadata": {},
   "outputs": [],
   "source": [
    "#Let's import the function named balox\n",
    "from explosivity_and_unsaturations import ismetal"
   ]
  },
  {
   "cell_type": "markdown",
   "id": "5993eec4-ef09-4fa9-bb1c-a2dbcc73c383",
   "metadata": {},
   "source": [
    "This function accepts an rdkit atom object as an input\n",
    "\n",
    "It outputs True if the atom is considered a metal, False otherwise"
   ]
  },
  {
   "cell_type": "markdown",
   "id": "9818d278-d0d4-48af-a53e-aaede470323f",
   "metadata": {},
   "source": [
    "Let's try it on an organometalic molecule: We want to find the symbol of the metals as well as their position in the molecule\n",
    "\n",
    "Lets look at the example of vitamine B12"
   ]
  },
  {
   "cell_type": "code",
   "execution_count": 19,
   "id": "7fbef50e-2b73-486c-a4bd-f3a9a303f94e",
   "metadata": {},
   "outputs": [
    {
     "data": {
      "image/png": "[encoded data removed]",
      "text/plain": [
       "<rdkit.Chem.rdchem.Mol at 0x1bc81a0eab0>"
      ]
     },
     "execution_count": 19,
     "metadata": {},
     "output_type": "execute_result"
    }
   ],
   "source": [
    "# Making sure to be able to display the molecule\n",
    "from rdkit import Chem\n",
    "from rdkit.Chem.Draw import IPythonConsole\n",
    "from rdkit.Chem import Draw\n",
    "IPythonConsole.molSize = 700,700\n",
    "\n",
    "smiles = \"NC(=O)C[C@@]8(C)[C@H](CCC(N)=O)C=2/N=C8/C(/C)=C1/[C@@H](CCC(N)=O)[C@](C)(CC(N)=O)[C@@](C)(N1[Co+]C#N)[C@@H]7/N=C(C(\\C)=C3/N=C(/C=2)C(C)(C)[C@@H]3CCC(N)=O)[C@](C)(CCC(=O)NCC(C)OP([O-])(=O)O[C@@H]6[C@@H](CO)O[C@H](n5cnc4cc(C)c(C)cc45)[C@@H]6O)[C@H]7CC(N)=O\"\n",
    "# This is the smiles for vitamine B12\n",
    "mol = Chem.MolFromSmiles(smiles)\n",
    "# Creating the rdkit molecule object from the smiles\n",
    "mol\n",
    "# Displaying the molecule object"
   ]
  },
  {
   "cell_type": "markdown",
   "id": "1e2f84ce-936c-40e5-9797-c5602a2dd3c0",
   "metadata": {},
   "source": [
    "We can notice that this is not the optimal way to search the metals in a molecule\n",
    "\n",
    "Lets create a function that gives is the metals in a molecule, as well as its position"
   ]
  },
  {
   "cell_type": "code",
   "execution_count": 20,
   "id": "951a57d4-8c4e-4086-a34a-b4f8bfa080cd",
   "metadata": {},
   "outputs": [
    {
     "name": "stdout",
     "output_type": "stream",
     "text": [
      "Found metal of symbol Co in position 33 in our molecule object\n"
     ]
    }
   ],
   "source": [
    "for atom in mol.GetAtoms():            # Loop over all atoms in the molecule \n",
    "    if ismetal(atom):                  # Determine if the atom is a metal\n",
    "        print(f\"Found metal of symbol {atom.GetSymbol()} in position {atom.GetIdx()} in our molecule object\")\n"
   ]
  },
  {
   "cell_type": "markdown",
   "id": "f254b30d-86d5-43b2-90ca-6351a5ab9f2c",
   "metadata": {},
   "source": [
    "This method is a lot more efficient to find metals, especialy in large molecules"
   ]
  },
  {
   "cell_type": "markdown",
   "id": "13ccfe89-7a35-4388-90ab-d48880812e9f",
   "metadata": {},
   "source": [
    "### What atoms does the function recognises as a metal ?"
   ]
  },
  {
   "cell_type": "markdown",
   "id": "53d83279-3c22-4497-8428-f3b87570d3e8",
   "metadata": {},
   "source": [
    "The atoms shown in red on this periodic table are recognised as metals"
   ]
  },
  {
   "cell_type": "markdown",
   "id": "90c69ade-9c82-4884-97e1-15ca79932b76",
   "metadata": {},
   "source": [
    "![Periodic table](https://github.com/Chemikarl/testproject/blob/master/notebooks/pictures/metals.png?raw=true)"
   ]
  },
  {
   "cell_type": "markdown",
   "id": "c8fdd385-2290-4636-b5c2-1d7ae387604a",
   "metadata": {},
   "source": [
    "Why are Germanium **[Ge]** and Antimony **[Sb]** considered to be metals? \n",
    "\n",
    "The oxygen balance formula used in the function **balox** needs to count the atoms that form oxides after combustion. This is why germanium and antimony are added. "
   ]
  },
  {
   "cell_type": "markdown",
   "id": "162a6f3d-e746-404c-8ec3-998fe7c64da8",
   "metadata": {},
   "source": [
    "# Find the oxygen balance of a molecule from a smiles"
   ]
  },
  {
   "cell_type": "code",
   "execution_count": 21,
   "id": "ba917766-4884-40ed-ac13-144c3fd1ca65",
   "metadata": {},
   "outputs": [],
   "source": [
    "#Let's import the function named balox\n",
    "from explosivity_and_unsaturations import balox"
   ]
  },
  {
   "cell_type": "markdown",
   "id": "e8d9fb17-4157-4814-b9cc-2878b25ae10c",
   "metadata": {},
   "source": [
    "Lets try this function on a simple molecule, methane, of smiles \"C\".\n",
    "\n",
    "Our function takes for input the string smiles of a molecule, and returns the oxygen balance as a float"
   ]
  },
  {
   "cell_type": "code",
   "execution_count": 22,
   "id": "4316a2d2-0725-491b-b895-a524139e1f3e",
   "metadata": {},
   "outputs": [
    {
     "data": {
      "text/plain": [
       "-398.92788131895543"
      ]
     },
     "execution_count": 22,
     "metadata": {},
     "output_type": "execute_result"
    }
   ],
   "source": [
    "balox(\"C\")\n"
   ]
  },
  {
   "cell_type": "markdown",
   "id": "3bbe36e2-ec5f-47dc-8d30-f93ecdf59a5e",
   "metadata": {},
   "source": [
    "We see a simple result, a very negative float .\n",
    "\n",
    "Lets try with a similar molecule, but containing some oxygen: methanol of smiles \"CO\""
   ]
  },
  {
   "cell_type": "code",
   "execution_count": 23,
   "id": "c28d3880-7a19-46c5-846e-735e21d03a8d",
   "metadata": {},
   "outputs": [
    {
     "data": {
      "text/plain": [
       "-0.0"
      ]
     },
     "execution_count": 23,
     "metadata": {},
     "output_type": "execute_result"
    }
   ],
   "source": [
    "balox(\"O=C=O\")"
   ]
  },
  {
   "cell_type": "markdown",
   "id": "893983c6-f033-4d20-87da-433086035dbf",
   "metadata": {},
   "source": [
    "The oxygen balance is at 0, meaning that the molecule is fully oxydised\n",
    "\n",
    "Lets try adding more oxygen, and less carbon: ozone, of smile \"[O-][O+]=O\""
   ]
  },
  {
   "cell_type": "code",
   "execution_count": 24,
   "id": "00e9e68b-2c35-46a2-b46e-4ff26560cdc7",
   "metadata": {},
   "outputs": [
    {
     "data": {
      "text/plain": [
       "100.00625039064941"
      ]
     },
     "execution_count": 24,
     "metadata": {},
     "output_type": "execute_result"
    }
   ],
   "source": [
    "balox(\"[O-][O+]=O\")"
   ]
  },
  {
   "cell_type": "markdown",
   "id": "170de924-1418-4063-b7ec-4d9d120495cf",
   "metadata": {},
   "source": [
    "Now the balance is very positive.\n",
    "\n",
    "We can conclude that this function outputs a float that indicates the oxygen excess or lack thereoff in a molecule. A positive oxygen balance means that the molecule contains an excess of oxygen, a negative balance means a lack of oxygen, and a neutral balance means that overal, the molecule is fully oxidized.\n"
   ]
  },
  {
   "cell_type": "markdown",
   "id": "d8efd786-19a9-47ec-b5d0-92df94284c71",
   "metadata": {},
   "source": [
    "### How could this be of any use ?\n",
    "\n",
    "The oxygen balance is important when pyrotechniques are developped or reaserched. For example, if a pyrotechnique mix has a lack of oxygen, the combustion gases may contain unreacted matter, possibly leading to the of clogging a rocket motor. Very low oxygen balance would result in an inert compound. An excess of oxygen may lead to the degradation of the container, or  result in an unstable compound. \n",
    "The oxygen balance is also used to classify explosives in terms of their instability.\n"
   ]
  },
  {
   "cell_type": "markdown",
   "id": "cc98536d-b263-4ed2-9748-394d5d75bf1e",
   "metadata": {},
   "source": [
    "### What happenes in that function ?"
   ]
  },
  {
   "cell_type": "markdown",
   "id": "3f531ce2-bc36-4948-a952-855f93aff185",
   "metadata": {},
   "source": [
    "The formula behind the oxygen balance is as follows\n",
    "\n",
    "OB = -1600 (2X + Y/2 + M - Z)\n",
    "\n",
    "$$\n",
    "\\displaystyle\\frac{-1600 (2X + Y/2 + M - Z)}{MolecularWeight}\n",
    "$$\n",
    "\n",
    "With X the number of carbons, Y the number of hydrogens, M the number of metals, and Z the number of oxygens. \n",
    "This formula stems from the reaction of the molecule within itself\n",
    "$\n",
    "$\\]\n"
   ]
  },
  {
   "cell_type": "markdown",
   "id": "a7d2fbad-28fe-4a74-9eb3-4856af6d82d8",
   "metadata": {},
   "source": [
    "# Determining if a molecule is explosive or not from two checks"
   ]
  },
  {
   "cell_type": "code",
   "execution_count": 25,
   "id": "f350f76c-fd7d-4d0e-915b-22efe7cca9f3",
   "metadata": {},
   "outputs": [],
   "source": [
    "from explosivity_and_unsaturations import explosivity\n",
    "# Importing our function"
   ]
  },
  {
   "cell_type": "markdown",
   "id": "318fc349-85d7-445c-b8b1-8e4c141e369e",
   "metadata": {},
   "source": [
    "The function accepts a molecule oxygen's balance as a float (see *balox* function) and a counter for the number of found explosive groups (see *findgroups*)\n",
    "\n",
    "From these two descriptors, it determines the explosivity potential of the molecule.\n",
    "\n",
    "It returns a string representing the found properties"
   ]
  },
  {
   "cell_type": "markdown",
   "id": "5ba4ea1b-794d-4a5a-9bf2-cc170ff8b85b",
   "metadata": {},
   "source": [
    "##### Case where no explosible groups were found\n"
   ]
  },
  {
   "cell_type": "code",
   "execution_count": 26,
   "id": "a956aab4-e658-4a64-80c8-7a6c0efbd39f",
   "metadata": {},
   "outputs": [
    {
     "data": {
      "text/plain": [
       "'No explosible groups, the molecule is not explosive.'"
      ]
     },
     "execution_count": 26,
     "metadata": {},
     "output_type": "execute_result"
    }
   ],
   "source": [
    "explosivity(123456789, 0)"
   ]
  },
  {
   "cell_type": "markdown",
   "id": "de80428d-4364-4fa8-a574-5047e7a13bc5",
   "metadata": {},
   "source": [
    "When no groups are found, the molecule is by default non-explosive, even if it has a favorable oxygen balance (see *balox*).\n",
    "\n",
    "However, some groups might have been ommitted by *findgroups*."
   ]
  },
  {
   "cell_type": "markdown",
   "id": "e63b9e01-6847-48da-a2c9-db747d0ed0f6",
   "metadata": {},
   "source": [
    "##### Cases were explosible groups were found"
   ]
  },
  {
   "cell_type": "markdown",
   "id": "4c9d4e0f-66ea-4506-9aa8-2df7bacd7c29",
   "metadata": {},
   "source": [
    "If explosible groups are found, the oxygen balance determines the strength of the explosive. \n",
    "\n",
    "If the oxygen balance is:\n",
    "- lower than -200, the molecule is **not considered explosive**\n",
    "- between -200 and -160, it is considered **mildly explosive**\n",
    "- between -160 and -80, it is considered **explosive**\n",
    "- between -80 and 12, it is considered **very explosive**\n",
    "- higher than 12, it is considered **explosive**"
   ]
  },
  {
   "cell_type": "markdown",
   "id": "b291c22c-52f4-486f-aecb-3eff07a5156d",
   "metadata": {},
   "source": [
    "This range was taught by the professor Jean Luc Marendaz.\n",
    "\n",
    "If the oxygen is too low, there is not enough oxygen inside the molecule to sustain a combustion in a closed space.\n",
    "\n",
    "If the oxygen balance is too high, there is not enough fuel for all the oxygen, the molecule is not optimized, but still explosive\n",
    "\n",
    "If the oxygen balance is close to 0, the molecule is very dangerous as the self-combustion is very efficient.\n"
   ]
  },
  {
   "cell_type": "markdown",
   "id": "d33305cb-bdea-4bb6-9498-868bb802f579",
   "metadata": {},
   "source": [
    "#### Examples"
   ]
  },
  {
   "cell_type": "markdown",
   "id": "c642a33f-f720-47fa-9f3c-c63e61715eae",
   "metadata": {},
   "source": [
    "Lets try different molecules, using other functions in the module to calculate for us the oxygen balance and count the explosive groups"
   ]
  },
  {
   "cell_type": "code",
   "execution_count": 27,
   "id": "65fab847-03a4-401e-bc59-c191a1a8b04a",
   "metadata": {},
   "outputs": [
    {
     "name": "stdout",
     "output_type": "stream",
     "text": [
      "For nitrodecane,              The oxygen balance is: -244,the molecule is not explosive.              \n",
      "For nitrobutane,              The oxygen balance is -163,the molecule is a mildly explosive.              \n",
      "For nitropropane,              The oxygen balance is -135,the molecule is explosive.              \n",
      "For nitromethane,              The oxygen balance is -40,the molecule is very explosive.              \n",
      "For ozone,              The oxygen balance is 100,the molecule is explosive.              \n"
     ]
    }
   ],
   "source": [
    "from explosivity_and_unsaturations import canonicalize_smiles, findgroups, balox, explosivity, iupac_to_smiles\n",
    "\n",
    "list = [\"nitrodecane\",\"nitrobutane\", \"nitropropane\",\"nitromethane\", \"ozone\"]\n",
    "\n",
    "#iterate over all names in the proposed list\n",
    "for name in list:\n",
    "\n",
    "    # use iupac_to_smiles to convert the name to its smiles\n",
    "    smiles = iupac_to_smiles(name)\n",
    "\n",
    "    #canonicalize the smiles\n",
    "    smiles=canonicalize_smiles(smiles) \n",
    "\n",
    "    # find the explosible groups and count them\n",
    "    (dico,group_check)=findgroups(smiles)\n",
    "\n",
    "    #calculate the oxygen balance\n",
    "    oxygen_balance = balox(smiles)\n",
    "\n",
    "    # test if the molecule is exposive with our function explosivity\n",
    "    print(f\"For {name},{explosivity(oxygen_balance,group_check)}\")"
   ]
  },
  {
   "cell_type": "markdown",
   "id": "a1eea990-edc1-4f5e-9394-1a14c3d7becf",
   "metadata": {},
   "source": [
    "# Find the number of insaturations in molecule"
   ]
  },
  {
   "cell_type": "markdown",
   "id": "e05b658b-5479-48ee-bb2c-74048d393b0a",
   "metadata": {},
   "source": [
    "Unsaturation is an important concept in chemistry. The degree of unsaturation is influenced by double bonds triple bonds and cycles in a molecule."
   ]
  },
  {
   "cell_type": "code",
   "execution_count": 28,
   "id": "4df2b323-08f1-4e2d-8ed1-c70fa584a985",
   "metadata": {},
   "outputs": [],
   "source": [
    "#Let's start by importing the function\n",
    "from explosivity_and_unsaturations import insat\n",
    "\n",
    "#Let's also draw those molecules to visualize the unsaturations\n",
    "from rdkit import Chem\n",
    "from rdkit.Chem.Draw import IPythonConsole\n",
    "from rdkit.Chem import Draw\n",
    "IPythonConsole.molSize = 300,300"
   ]
  },
  {
   "cell_type": "markdown",
   "id": "f47f8c9a-8c7f-4648-a9d0-e2d8fcb2a049",
   "metadata": {},
   "source": [
    "Let's test if it is able to find the different strucutures that influence the degree of unsaturations.\n",
    "\n",
    "Firstly, double bonds. If I give the smiles \"C=CCC\" it should give back 1, because we have one double bond:"
   ]
  },
  {
   "cell_type": "code",
   "execution_count": 29,
   "id": "021b23c0-376b-4a39-9477-ec8c2c333bf7",
   "metadata": {},
   "outputs": [
    {
     "name": "stdout",
     "output_type": "stream",
     "text": [
      "The degree of insaturation is 1.0.\n"
     ]
    },
    {
     "data": {
      "image/png": "[encoded data removed]",
      "text/plain": [
       "<rdkit.Chem.rdchem.Mol at 0x1bc81a0f840>"
      ]
     },
     "execution_count": 29,
     "metadata": {},
     "output_type": "execute_result"
    }
   ],
   "source": [
    "print(insat(\"C=CCC\"))\n",
    "butandiene = Chem.MolFromSmiles(\"C=CCC\")\n",
    "butandiene"
   ]
  },
  {
   "cell_type": "markdown",
   "id": "ba9a6130-2f70-4939-98dc-109ac6132c40",
   "metadata": {},
   "source": [
    "If we now test the molecule with smiles \"CCC#CCC\", it should give back 2. We have only one triple bond, but they count 2 in the degree of unsaturation."
   ]
  },
  {
   "cell_type": "code",
   "execution_count": 30,
   "id": "a2b0e6b7-8445-4868-aeac-c23c41ca3504",
   "metadata": {},
   "outputs": [
    {
     "name": "stdout",
     "output_type": "stream",
     "text": [
      "The degree of insaturation is 2.0.\n"
     ]
    },
    {
     "data": {
      "image/png": "[encoded data removed]",
      "text/plain": [
       "<rdkit.Chem.rdchem.Mol at 0x1bc81a0fa00>"
      ]
     },
     "execution_count": 30,
     "metadata": {},
     "output_type": "execute_result"
    }
   ],
   "source": [
    "print(insat(\"CCC#CCC\"))\n",
    "hexine = Chem.MolFromSmiles(\"CCC#CCC\")\n",
    "hexine"
   ]
  },
  {
   "cell_type": "markdown",
   "id": "3aae8af3-6e73-4079-ad02-fd451eebbe12",
   "metadata": {},
   "source": [
    "The last structure we need to test is the cycle, if I give the smiles \"C1CCCC1\", the function should give back 1.0"
   ]
  },
  {
   "cell_type": "code",
   "execution_count": 31,
   "id": "83dd1c90-b51d-4fd0-acd5-78d85291495d",
   "metadata": {},
   "outputs": [
    {
     "name": "stdout",
     "output_type": "stream",
     "text": [
      "The degree of insaturation is 1.0.\n"
     ]
    },
    {
     "data": {
      "image/png": "[encoded data removed]",
      "text/plain": [
       "<rdkit.Chem.rdchem.Mol at 0x1bc81a0fb50>"
      ]
     },
     "execution_count": 31,
     "metadata": {},
     "output_type": "execute_result"
    }
   ],
   "source": [
    "print(insat(\"C1CCCC1\"))\n",
    "cyclopentane = Chem.MolFromSmiles(\"C1CCCC1\")\n",
    "cyclopentane"
   ]
  },
  {
   "cell_type": "markdown",
   "id": "7af3b9a2-94fd-4d5a-b4a4-880ab7bc39fd",
   "metadata": {},
   "source": [
    "Generally, the concept of unsaturations is only applied in molecules containing carbons. For example, in the most common used definition of degreee of unsaturation, a molecule like sulfruric acid, H2SO4, would have a degree of unsaturation of 0, event though it contains two double bonds. In this function, the concept of degree of unsaturation was generalized including these kind of cases too."
   ]
  },
  {
   "cell_type": "code",
   "execution_count": 32,
   "id": "b1e094ae-1672-47f3-baa4-c78bc0223e8d",
   "metadata": {},
   "outputs": [
    {
     "name": "stdout",
     "output_type": "stream",
     "text": [
      "The degree of insaturation is 2.0.\n"
     ]
    },
    {
     "data": {
      "image/png": "[encoded data removed]",
      "text/plain": [
       "<rdkit.Chem.rdchem.Mol at 0x1bc81a0fbc0>"
      ]
     },
     "execution_count": 32,
     "metadata": {},
     "output_type": "execute_result"
    }
   ],
   "source": [
    "print(insat(\"OS(=O)(=O)O\"))\n",
    "sulfuric_acid= Chem.MolFromSmiles(\"OS(=O)(=O)O\")\n",
    "sulfuric_acid"
   ]
  },
  {
   "cell_type": "markdown",
   "id": "bd7ed770-a95c-4bd6-a645-f3dc261116e7",
   "metadata": {},
   "source": [
    "#### How can this be of any use?"
   ]
  },
  {
   "cell_type": "markdown",
   "id": "c2248ec8-4bec-451c-8e71-a0e35dccb15c",
   "metadata": {},
   "source": [
    "The degree of unsaturation is useful in molecule analysis. For example when looking for the structure of a molecule analyzed via spectrometry (mass, infrared, HNMR, ...). Knowing the degree of unsaturation tells you if the molecule has double and triple bonds or cycles in its structure."
   ]
  },
  {
   "cell_type": "markdown",
   "id": "571a2614-f0ef-4787-b0af-a2368942c374",
   "metadata": {},
   "source": [
    "#### What does this function do exactly?"
   ]
  },
  {
   "cell_type": "markdown",
   "id": "c971c784-144f-4eb8-bcc2-615476f13542",
   "metadata": {},
   "source": [
    "The formula classically used only includes carbon, hydrogens, nitrogen and the halogens. The generalized formula we implemented can be used for any molecule. The formula is the following: \n",
    "\n",
    "$$\n",
    "\\displaystyle\\frac{6*val8 + 5*val7 + 4*val6 + 3*val5 + 2*val4 + val3 - val1 - 2*val0 + 2}{2}\n",
    "$$\n",
    "\n",
    "Where valx indicates the number of atoms that have valence x. The contribution of each atoms only depend on their valence. Atoms with valences grater than 8 were not included. Atoms that don't respect the octate rule won't be recongnized correctly."
   ]
  },
  {
   "cell_type": "code",
   "execution_count": 33,
   "id": "f5876df7-5b2b-42ff-98ea-f763a17cc93e",
   "metadata": {},
   "outputs": [
    {
     "name": "stdout",
     "output_type": "stream",
     "text": [
      "The degree of insaturation is 0.0.\n"
     ]
    },
    {
     "data": {
      "image/png": "[encoded data removed]",
      "text/plain": [
       "<rdkit.Chem.rdchem.Mol at 0x1bc81a0fdf0>"
      ]
     },
     "execution_count": 33,
     "metadata": {},
     "output_type": "execute_result"
    }
   ],
   "source": [
    "print(insat(\"P(F)(F)(F)(F)F\"))\n",
    "Phosphorus_pentafluoride= Chem.MolFromSmiles(\"P(=O)(F)(F)F\")\n",
    "Phosphorus_pentafluoride"
   ]
  },
  {
   "cell_type": "markdown",
   "id": "6b9887c7-64db-4903-a049-48b080867373",
   "metadata": {},
   "source": [
    "# The functions that make the buttons work"
   ]
  },
  {
   "cell_type": "markdown",
   "id": "555548fc-57b1-42cf-82d2-4c9360c151db",
   "metadata": {},
   "source": [
    "There isn't much to say about these functions, they are used in the main function to make the buttons work.\n",
    "The submitboom and submitinsat functions make the submit buttons of their respective tabs work.\n",
    "It doesn't make much sense to give examples for those."
   ]
  },
  {
   "cell_type": "markdown",
   "id": "c0f45193-064c-4762-b13e-8728dfcc0e6e",
   "metadata": {},
   "source": [
    "The open_pubchem_sketcher function is a bit more interesting, it makes the open pubchem sketcher button work on both tabs. It opens another tab on your internet browser where you can draw any molecule you like. On the top of the skecther, the smiles of the molecule is given. You can copy it into the other functions. This can be very useful if you don't know the smiles nor the iupac name of a molecule bur you know its structure. This function requires the internet to work."
   ]
  },
  {
   "cell_type": "code",
   "execution_count": 34,
   "id": "9ee13295-fcf9-4c44-8676-00f3f7a112a6",
   "metadata": {},
   "outputs": [],
   "source": [
    "#Let's test this last function\n",
    "from explosivity_and_unsaturations import open_pubchem_sketcher \n",
    "open_pubchem_sketcher()"
   ]
  },
  {
   "cell_type": "markdown",
   "id": "6d0c01dd-beb6-46ae-8688-3bb2090cd1af",
   "metadata": {},
   "source": [
    "# The main function that links everything together"
   ]
  },
  {
   "cell_type": "markdown",
   "id": "d8908272-558e-4395-8554-4ca9020102ad",
   "metadata": {},
   "source": [
    "There isn't much to say about this function either, this function is not thought to be used in other functions. It uses all the other functions and puts everything in a nice interface to use. \n",
    "\n",
    "Everytime the function is used, another window is opened which contains two tabs, one for the explosivity and one for the degree of unsaturation. To use those tabs, select if you want to use a smiles or a iupac name, enter your molecule and press the button submit on the interface or enter on your keyboard."
   ]
  },
  {
   "cell_type": "markdown",
   "id": "0f0fbcc3-ed6b-411b-8163-10d52e14bec8",
   "metadata": {},
   "source": [
    "<img src=\"https://raw.githubusercontent.com/amidecar/Explosivity_and_unsaturations/main/notebooks/pictures/window%20area.png\" alt=\"drawing\" width=\"500\">\n",
    "\n",
    "\n",
    "This is the *main()* function ***window***. Let us show you it's features."
   ]
  },
  {
   "cell_type": "markdown",
   "id": "d6a9536b-4372-4765-9433-a949a5083954",
   "metadata": {},
   "source": [
    "<img src=\"https://raw.githubusercontent.com/amidecar/Explosivity_and_unsaturations/main/notebooks/pictures/tabs.png\" alt=\"drawing\" width=\"500\" > <img src=\"https://raw.githubusercontent.com/amidecar/Explosivity_and_unsaturations/main/notebooks/pictures/inputs.png\" alt=\"drawing\" width=\"580\" >\n",
    "\n",
    "You can see ***two tabs***, they access different features of our package: the explosivity part and unsaturation part.\n",
    "\n",
    "There are ***two radio buttons*** to chose the input type: SMILES or IUPAC name.\n",
    "\n",
    "There is a ***text input*** associated with each type on input.\n",
    "\n",
    "<img src=\"https://raw.githubusercontent.com/amidecar/Explosivity_and_unsaturations/main/notebooks/pictures/submit.png\" alt=\"drawing\" width=\"580\" >\n",
    "\n",
    "To submit your molecule, there is a ***submit button***.\n",
    "\n",
    "If you do not know the exact name of the molecule, nor know it's SMILES, you can draw the molecule on ***Pubchem's sketcher*** and copy paste its SMILES."
   ]
  },
  {
   "cell_type": "code",
   "execution_count": 4,
   "id": "f7b0e17a-0bf9-4543-a791-6158ee1a1ec2",
   "metadata": {},
   "outputs": [],
   "source": [
    "from explosivity_and_unsaturations import main\n",
    "main()"
   ]
  },
  {
   "cell_type": "markdown",
   "id": "aa1ed7dd-a815-450e-b698-8945282822b6",
   "metadata": {},
   "source": [
    "The window can now be openened at will"
   ]
  }
 ],
 "metadata": {
  "kernelspec": {
   "display_name": "Python 3 (ipykernel)",
   "language": "python",
   "name": "python3"
  },
  "language_info": {
   "codemirror_mode": {
    "name": "ipython",
    "version": 3
   },
   "file_extension": ".py",
   "mimetype": "text/x-python",
   "name": "python",
   "nbconvert_exporter": "python",
   "pygments_lexer": "ipython3",
   "version": "3.10.14"
  }
 },
 "nbformat": 4,
 "nbformat_minor": 5
}
