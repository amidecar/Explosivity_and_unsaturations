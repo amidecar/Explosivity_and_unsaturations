


from explosivity_and_unsaturations import highlightmol
# Importing our function








# Making sure to be able to display the molecule
from rdkit import Chem
from rdkit.Chem.Draw import IPythonConsole
from rdkit.Chem import Draw
IPythonConsole.molSize = 300,300

smiles = "Cc1c(cc(cc1[N+](=O)[O-])[N+](=O)[O-])[N+](=O)[O-]"
# This is the smiles for nitrotetrazole
mol = Chem.MolFromSmiles(smiles)
# Creating the rdkit molecule object from the smiles
mol





from explosivity_and_unsaturations import findgroups
dico = findgroups(smiles)





image = highlightmol(smiles, dico)





from PIL import ImageTk
ImageTk.getimage( image )








smiles = "C(#[N+][O-])[N+](=O)[O-]"
dico = findgroups(smiles)
image = highlightmol(smiles, dico)
from PIL import ImageTk
ImageTk.getimage( image )



