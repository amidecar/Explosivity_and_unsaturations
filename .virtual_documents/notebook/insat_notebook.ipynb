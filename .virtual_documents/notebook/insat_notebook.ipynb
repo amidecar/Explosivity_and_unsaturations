





#Let's start by importing the function
from explosivity_and_unsaturations import insat

#Let's also draw those molecules to visualize the unsaturations
from rdkit import Chem
from rdkit.Chem.Draw import IPythonConsole
from rdkit.Chem import Draw
IPythonConsole.molSize = 300,300





print(insat("C=CCC"))
butandiene = Chem.MolFromSmiles("C=CCC")
butandiene





print(insat("CCC#CCC"))
hexine = Chem.MolFromSmiles("CCC#CCC")
hexine





print(insat("C1CCCC1"))
cyclopentane = Chem.MolFromSmiles("C1CCCC1")
cyclopentane





print(insat("OS(=O)(=O)O"))
sulfuric_acid= Chem.MolFromSmiles("OS(=O)(=O)O")
sulfuric_acid












