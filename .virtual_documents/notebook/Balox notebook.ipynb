


#Let's import the function named balox
from explosivity_and_unsaturations import balox





balox("C")






balox("CO")





balox("O=C=O")





balox("[O-][O+]=O")












