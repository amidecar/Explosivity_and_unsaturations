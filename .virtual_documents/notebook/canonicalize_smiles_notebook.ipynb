


#Let's import the function named canonicalize_smiles
from explosivity_and_unsaturations import canonicalize_smiles











print(canonicalize_smiles("O=C=O"))
print(canonicalize_smiles("C(=O)=O"))





canonicalize_smiles("ghqgzcf")





canonicalize_smiles("C=O=O")





canonicalize_smiles("C=[O++]=O")



