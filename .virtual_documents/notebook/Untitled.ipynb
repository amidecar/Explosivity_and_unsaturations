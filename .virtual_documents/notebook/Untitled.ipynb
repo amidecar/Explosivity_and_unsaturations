





#Let's import the function
from explosivity_and_unsaturations import iupac_to_smiles





print(iupac_to_smiles("water"))
print(iupac_to_smiles("ethanol"))
print(iupac_to_smiles("benzene"))
print(iupac_to_smiles("acetic acid"))
print(iupac_to_smiles("cyclopentane"))
print(iupac_to_smiles("etcestcommecaquejeej"))



