





# Let's import it, you can try to put smiles and iupac in it and see what comes out
from explosivity_and_unsaturations import main
main()





main()



