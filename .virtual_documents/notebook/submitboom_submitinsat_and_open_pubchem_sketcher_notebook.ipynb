








#Let's test this last function
from explosivity_and_unsaturations import open_pubchem_sketcher 
open_pubchem_sketcher()
