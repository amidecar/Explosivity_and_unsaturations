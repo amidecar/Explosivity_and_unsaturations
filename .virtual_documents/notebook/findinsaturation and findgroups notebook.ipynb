


from explosivity_and_unsaturations import findgroups, findinsaturation
# Importing our two functions








# Making sure to be able to display the molecule
from rdkit import Chem
from rdkit.Chem.Draw import IPythonConsole
from rdkit.Chem import Draw
IPythonConsole.molSize = 300,300

smiles = "C1=NN=NN1[N+](=O)[O-]"
# This is the smiles for nitrotetrazole
mol = Chem.MolFromSmiles(smiles)
# Creating the rdkit molecule object from the smiles
mol





dico = findgroups(smiles)
dico








dico = findinsaturation(smiles)
dico












