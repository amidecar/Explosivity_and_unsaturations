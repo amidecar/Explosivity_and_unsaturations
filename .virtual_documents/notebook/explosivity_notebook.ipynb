


from explosivity_and_unsaturations import explosivity
# Importing our function








explosivity(123456789, 0)




















from explosivity_and_unsaturations import canonicalize_smiles, findgroups, balox, explosivity, iupac_to_smiles

list = ["nitrodecane","nitrobutane", "nitropropane","nitromethane", "ozone"]

#iterate over all names in the proposed list
for name in list:

    # use iupac_to_smiles to convert the name to its smiles
    smiles = iupac_to_smiles(name)

    #canonicalize the smiles
    smiles=canonicalize_smiles(smiles) 

    # find the explosible groups and count them
    (dico,group_check)=findgroups(smiles)

    #calculate the oxygen balance
    oxygen_balance = balox(smiles)

    # test if the molecule is exposive with our function explosivity
    print(f"For {name},{explosivity(oxygen_balance,group_check)}")
