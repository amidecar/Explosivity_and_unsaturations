


from explosivity_and_unsaturations import findgroups, findinsaturation
# Importing our two functions








# Making sure to be able to display the molecule
from rdkit import Chem
from rdkit.Chem.Draw import IPythonConsole
from rdkit.Chem import Draw
IPythonConsole.molSize = 300,300

smiles = "C1=NN=NN1[N+](=O)[O-]"
# This is the smiles for nitrotetrazole
mol = Chem.MolFromSmiles(smiles)
# Creating the rdkit molecule object from the smiles
mol





dico,group_check = findgroups(smiles)
dico


print(f"The number of found explosible fragments is {group_check}")








dico = findinsaturation(smiles)
dico












