


#Let's import the function named balox
from explosivity_and_unsaturations import ismetal








# Making sure to be able to display the molecule
from rdkit import Chem
from rdkit.Chem.Draw import IPythonConsole
from rdkit.Chem import Draw
IPythonConsole.molSize = 700,700

smiles = "NC(=O)C[C@@]8(C)[C@H](CCC(N)=O)C=2/N=C8/C(/C)=C1/[C@@H](CCC(N)=O)[C@](C)(CC(N)=O)[C@@](C)(N1[Co+]C#N)[C@@H]7/N=C(C(\C)=C3/N=C(/C=2)C(C)(C)[C@@H]3CCC(N)=O)[C@](C)(CCC(=O)NCC(C)OP([O-])(=O)O[C@@H]6[C@@H](CO)O[C@H](n5cnc4cc(C)c(C)cc45)[C@@H]6O)[C@H]7CC(N)=O"
# This is the smiles for vitamine B12
mol = Chem.MolFromSmiles(smiles)
# Creating the rdkit molecule object from the smiles
mol
# Displaying the molecule object





for atom in mol.GetAtoms():            # Loop over all atoms in the molecule 
    if ismetal(atom):                  # Determine if the atom is a metal
        print(f"Found metal of symbol {atom.GetSymbol()} in position {atom.GetIdx()} in our molecule object")
















