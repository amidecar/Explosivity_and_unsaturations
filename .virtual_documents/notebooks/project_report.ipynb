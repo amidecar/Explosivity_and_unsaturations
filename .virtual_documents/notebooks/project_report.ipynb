











#Let's import the function
from explosivity_and_unsaturations import iupac_to_smiles





print(iupac_to_smiles("water"))
print(iupac_to_smiles("ethanol"))
print(iupac_to_smiles("benzene"))
print(iupac_to_smiles("acetic acid"))
print(iupac_to_smiles("cyclopentane"))
print(iupac_to_smiles("etcestcommecaquejeej"))








#Let's import the function named canonicalize_smiles
from explosivity_and_unsaturations import canonicalize_smiles











print(canonicalize_smiles("O=C=O"))
print(canonicalize_smiles("C(=O)=O"))





canonicalize_smiles("ghqgzcf")





canonicalize_smiles("C=O=O")





canonicalize_smiles("C=[O++]=O")











from explosivity_and_unsaturations import findgroups, findinsaturation
# Importing our two functions








# Making sure to be able to display the molecule
from rdkit import Chem
from rdkit.Chem.Draw import IPythonConsole
from rdkit.Chem import Draw
IPythonConsole.molSize = 300,300

smiles = "C1=NN=NN1[N+](=O)[O-]"
# This is the smiles for nitrotetrazole
mol = Chem.MolFromSmiles(smiles)
# Creating the rdkit molecule object from the smiles
mol





dico,group_check = findgroups(smiles)
dico


print(f"The number of found explosible fragments is {group_check}")








dico = findinsaturation(smiles)
dico














from explosivity_and_unsaturations import highlightmol
# Importing our function








# Making sure to be able to display the molecule
from rdkit import Chem
from rdkit.Chem.Draw import IPythonConsole
from rdkit.Chem import Draw
IPythonConsole.molSize = 300,300

smiles = "Cc1c(cc(cc1[N+](=O)[O-])[N+](=O)[O-])[N+](=O)[O-]"
# This is the smiles for nitrotetrazole
mol = Chem.MolFromSmiles(smiles)
# Creating the rdkit molecule object from the smiles
mol





from explosivity_and_unsaturations import findgroups
(dico,uselessvariable) = findgroups(smiles)





image = highlightmol(smiles, dico)
image








smiles = "C(#[N+][O-])[N+](=O)[O-]"
(dico,uselessvalue) = findgroups(smiles)
image = highlightmol(smiles, dico)
image








#Let's import the function named balox
from explosivity_and_unsaturations import ismetal








# Making sure to be able to display the molecule
from rdkit import Chem
from rdkit.Chem.Draw import IPythonConsole
from rdkit.Chem import Draw
IPythonConsole.molSize = 700,700

smiles = "NC(=O)C[C@@]8(C)[C@H](CCC(N)=O)C=2/N=C8/C(/C)=C1/[C@@H](CCC(N)=O)[C@](C)(CC(N)=O)[C@@](C)(N1[Co+]C#N)[C@@H]7/N=C(C(\C)=C3/N=C(/C=2)C(C)(C)[C@@H]3CCC(N)=O)[C@](C)(CCC(=O)NCC(C)OP([O-])(=O)O[C@@H]6[C@@H](CO)O[C@H](n5cnc4cc(C)c(C)cc45)[C@@H]6O)[C@H]7CC(N)=O"
# This is the smiles for vitamine B12
mol = Chem.MolFromSmiles(smiles)
# Creating the rdkit molecule object from the smiles
mol
# Displaying the molecule object





for atom in mol.GetAtoms():            # Loop over all atoms in the molecule 
    if ismetal(atom):                  # Determine if the atom is a metal
        print(f"Found metal of symbol {atom.GetSymbol()} in position {atom.GetIdx()} in our molecule object")





















#Let's import the function named balox
from explosivity_and_unsaturations import balox





balox("C")






balox("O=C=O")





balox("[O-][O+]=O")

















from explosivity_and_unsaturations import explosivity
# Importing our function








explosivity(123456789, 0)




















from explosivity_and_unsaturations import canonicalize_smiles, findgroups, balox, explosivity, iupac_to_smiles

list = ["nitrodecane","nitrobutane", "nitropropane","nitromethane", "ozone"]

#iterate over all names in the proposed list
for name in list:

    # use iupac_to_smiles to convert the name to its smiles
    smiles = iupac_to_smiles(name)

    #canonicalize the smiles
    smiles=canonicalize_smiles(smiles) 

    # find the explosible groups and count them
    (dico,group_check)=findgroups(smiles)

    #calculate the oxygen balance
    oxygen_balance = balox(smiles)

    # test if the molecule is exposive with our function explosivity
    print(f"For {name},{explosivity(oxygen_balance,group_check)}")








#Let's start by importing the function
from explosivity_and_unsaturations import insat

#Let's also draw those molecules to visualize the unsaturations
from rdkit import Chem
from rdkit.Chem.Draw import IPythonConsole
from rdkit.Chem import Draw
IPythonConsole.molSize = 300,300





print("the degree of unsaturation is " + str(insat("C=CCC")))
butandiene = Chem.MolFromSmiles("C=CCC")
butandiene





print("the degree of unsaturation is " + str(insat("CCC#CCC")))
hexine = Chem.MolFromSmiles("CCC#CCC")
hexine





print("the degree of unsaturation is " + str(insat("C1CCCC1")))
cyclopentane = Chem.MolFromSmiles("C1CCCC1")
cyclopentane





print("the degree of unsaturation is " + str(insat("OS(=O)(=O)O")))
sulfuric_acid= Chem.MolFromSmiles("OS(=O)(=O)O")
sulfuric_acid



print("the degree of unsaturation is " + str(insat("OP(=O)(O)O")))
phosphate = Chem.MolFromSmiles("OP(=O)(O)O")
phosphate





print("the degree of unsaturation is " + str(insat("[NH4+].[N+](=O)([O-])[O-]")))
ammonium_nitrate = Chem.MolFromSmiles("[NH4+].[N+](=O)([O-])[O-]")
ammonium_nitrate























#Let's test this last function
from explosivity_and_unsaturations import open_pubchem_sketcher 
open_pubchem_sketcher()














from explosivity_and_unsaturations import main
main()



