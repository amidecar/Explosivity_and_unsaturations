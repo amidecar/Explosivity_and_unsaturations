{
 "cells": [
  {
   "cell_type": "markdown",
   "id": "002b3c25-0db8-4002-9d4a-6f502314c90c",
   "metadata": {},
   "source": [
    "# Getting molecular smiles from the iupac name\n"
   ]
  },
  {
   "cell_type": "markdown",
   "id": "ab520b15-19c1-4191-a9c7-69a778f3c212",
   "metadata": {},
   "source": [
    "Smiles are very practical from a programming point of view, they are very easy for a machine to interprate. For a person, not so much, a chemist generally knows substances by their name. For this reason, it's important to give the possibility to input the IUPAC name of a molecule. The function takes as an input the name of the molecule on the form a string and returns its smiles"
   ]
  },
  {
   "cell_type": "code",
   "execution_count": 8,
   "id": "15aebcc2-df48-4762-b55f-c0deeea2f982",
   "metadata": {},
   "outputs": [],
   "source": [
    "#Let's import the function\n",
    "from explosivity_and_unsaturations import iupac_to_smiles"
   ]
  },
  {
   "cell_type": "markdown",
   "id": "2765ffaa-75ba-4a7e-986d-d0069113ff08",
   "metadata": {},
   "source": [
    "This function is a bit particular, since it relies on the internet to give back a result. In fact, it utilizes the data on https://cactus.nci.nih.gov/chemical/structure. In theory the function could also have been made with our own database, but its much easier to use a prexisting one.\n",
    "Let's try hit for a few known compounds and gibberish, to see if it gives back an error:"
   ]
  },
  {
   "cell_type": "code",
   "execution_count": 11,
   "id": "4f6cd172-36de-463e-8c91-f7f31929f616",
   "metadata": {},
   "outputs": [
    {
     "name": "stdout",
     "output_type": "stream",
     "text": [
      "O\n",
      "CCO\n",
      "c1ccccc1\n",
      "CC(O)=O\n",
      "C1CCCC1\n",
      "Error: HTTP Error 500: INTERNAL SERVER ERROR\n",
      "Unable to convert IUPAC name to SMILES\n"
     ]
    }
   ],
   "source": [
    "print(iupac_to_smiles(\"water\"))\n",
    "print(iupac_to_smiles(\"ethanol\"))\n",
    "print(iupac_to_smiles(\"benzene\"))\n",
    "print(iupac_to_smiles(\"acetic acid\"))\n",
    "print(iupac_to_smiles(\"cyclopentane\"))\n",
    "print(iupac_to_smiles(\"etcestcommecaquejeej\"))"
   ]
  },
  {
   "cell_type": "markdown",
   "id": "4dbdfe22-bbc6-4cbd-85c8-19ec1702d418",
   "metadata": {},
   "source": [
    "The function seems to work as expected: A IUPAC name is given to it and it returns the smiles. If the name doesn' exist, it rises an error."
   ]
  }
 ],
 "metadata": {
  "kernelspec": {
   "display_name": "Python 3 (ipykernel)",
   "language": "python",
   "name": "python3"
  },
  "language_info": {
   "codemirror_mode": {
    "name": "ipython",
    "version": 3
   },
   "file_extension": ".py",
   "mimetype": "text/x-python",
   "name": "python",
   "nbconvert_exporter": "python",
   "pygments_lexer": "ipython3",
   "version": "3.10.14"
  }
 },
 "nbformat": 4,
 "nbformat_minor": 5
}
