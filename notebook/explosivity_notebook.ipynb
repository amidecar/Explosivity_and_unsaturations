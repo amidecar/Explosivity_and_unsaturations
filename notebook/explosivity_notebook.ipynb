{
 "cells": [
  {
   "cell_type": "markdown",
   "id": "bccae151-005b-448b-9504-e795254ac25c",
   "metadata": {},
   "source": [
    "# Determining if a molecule is explosiv or not from two checks"
   ]
  },
  {
   "cell_type": "code",
   "execution_count": 2,
   "id": "a559b09e-5f15-40e0-8588-a609f9ff20e6",
   "metadata": {},
   "outputs": [],
   "source": [
    "from explosivity_and_unsaturations import explosivity\n",
    "# Importing our function"
   ]
  },
  {
   "cell_type": "markdown",
   "id": "fd9aa737-4415-43cc-8e9e-3b2049ee0583",
   "metadata": {},
   "source": [
    "The function accepts a molecule oxygen's balance as a float (see *balox* function) and a counter for the number of found explosive groups (see *findgroups*)\n",
    "\n",
    "From these two descriptors, it determines the explosivity potential of the molecule.\n",
    "\n",
    "It returns a string representing the found properties"
   ]
  },
  {
   "cell_type": "markdown",
   "id": "8d2e18db-390d-4e99-8080-95f43ca6a3ef",
   "metadata": {},
   "source": [
    "##### Case where no explosible groups were found\n"
   ]
  },
  {
   "cell_type": "code",
   "execution_count": 5,
   "id": "807f399b-f081-4db0-8a47-668995bf42ac",
   "metadata": {},
   "outputs": [
    {
     "data": {
      "text/plain": [
       "'No explosible groups, the molecule is not explosive.'"
      ]
     },
     "execution_count": 5,
     "metadata": {},
     "output_type": "execute_result"
    }
   ],
   "source": [
    "explosivity(123456789, 0)"
   ]
  },
  {
   "cell_type": "markdown",
   "id": "6ff8b6a2-099f-4d73-a702-ab33a4ef0eaa",
   "metadata": {},
   "source": [
    "When no groups are found, the molecule is by default non-explosive, even if it has a favorable oxygen balance (see *balox*).\n",
    "\n",
    "However, some groups could have been ommitted by *findgroups*"
   ]
  },
  {
   "cell_type": "markdown",
   "id": "ad7095c8-19bf-4cb7-a918-ad8d06fa5c8a",
   "metadata": {},
   "source": [
    "##### Cases were explosible groups were found"
   ]
  },
  {
   "cell_type": "markdown",
   "id": "e5834bc6-e491-463d-b814-f62de58ede50",
   "metadata": {},
   "source": [
    "If explosible groups are found, the oxygen balance determines the strength of the explosive. \n",
    "\n",
    "If the oxygen balance is:\n",
    "- lower than -200, the molecule is **not considered explosive**\n",
    "- between -200 and -160, it is considered **mildly explosive**\n",
    "- between -160 and -80, it is considered **explosive**\n",
    "- between -80 and 12, it is considered **very explosive**\n",
    "- higher than 12, it is considered **explosive**"
   ]
  },
  {
   "cell_type": "markdown",
   "id": "db9fc9bf-25eb-4b07-9504-c100d54fd2b1",
   "metadata": {},
   "source": [
    "This range was taught by the professor Jean Luc Marendaz.\n",
    "\n",
    "If the oxygen is too low, there is not enough oxygen inside the molecule to sustain a combustion in a closed space.\n",
    "\n",
    "If the oxygen balance is too high, there is not enough fuel for all the oxygen, the molecule is not optimized, but still explosive\n",
    "\n",
    "If the oxygen balance is close to 0, the molecule is very dangerous as the self-combustion is very efficient.\n"
   ]
  },
  {
   "cell_type": "markdown",
   "id": "8f89c035-1cc8-42be-8e70-18a597f69e5e",
   "metadata": {},
   "source": [
    "#### Examples"
   ]
  },
  {
   "cell_type": "markdown",
   "id": "d82841a3-9840-46fa-a6ad-304d79ee4c80",
   "metadata": {},
   "source": [
    "Lets try different molecules, using other functions in the module to calculate for us the oxygen balance and count the explosive groups"
   ]
  },
  {
   "cell_type": "code",
   "execution_count": 14,
   "id": "6c6735a1-34a2-4594-a0dc-1f6c432e6dbb",
   "metadata": {},
   "outputs": [
    {
     "name": "stdout",
     "output_type": "stream",
     "text": [
      "For nitrodecane,              The oxygen balance is: -244,the molecule is not explosive.              \n",
      "For nitrobutane,              The oxygen balance is -163,the molecule is a mildly explosive.              \n",
      "For nitropropane,              The oxygen balance is -135,the molecule is explosive.              \n",
      "For nitromethane,              The oxygen balance is -40,the molecule is very explosive.              \n",
      "For ozone,              The oxygen balance is 100,the molecule is explosive.              \n"
     ]
    }
   ],
   "source": [
    "from explosivity_and_unsaturations import canonicalize_smiles, findgroups, balox, explosivity, iupac_to_smiles\n",
    "\n",
    "list = [\"nitrodecane\",\"nitrobutane\", \"nitropropane\",\"nitromethane\", \"ozone\"]\n",
    "\n",
    "#iterate over all names in the proposed list\n",
    "for name in list:\n",
    "\n",
    "    # use iupac_to_smiles to convert the name to its smiles\n",
    "    smiles = iupac_to_smiles(name)\n",
    "\n",
    "    #canonicalize the smiles\n",
    "    smiles=canonicalize_smiles(smiles) \n",
    "\n",
    "    # find the explosible groups and count them\n",
    "    (dico,group_check)=findgroups(smiles)\n",
    "\n",
    "    #calculate the oxygen balance\n",
    "    oxygen_balance = balox(smiles)\n",
    "\n",
    "    # test if the molecule is exposive with our function explosivity\n",
    "    print(f\"For {name},{explosivity(oxygen_balance,group_check)}\")"
   ]
  }
 ],
 "metadata": {
  "kernelspec": {
   "display_name": "Python 3 (ipykernel)",
   "language": "python",
   "name": "python3"
  },
  "language_info": {
   "codemirror_mode": {
    "name": "ipython",
    "version": 3
   },
   "file_extension": ".py",
   "mimetype": "text/x-python",
   "name": "python",
   "nbconvert_exporter": "python",
   "pygments_lexer": "ipython3",
   "version": "3.10.14"
  }
 },
 "nbformat": 4,
 "nbformat_minor": 5
}
