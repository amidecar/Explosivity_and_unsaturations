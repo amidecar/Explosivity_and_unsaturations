{
 "cells": [
  {
   "cell_type": "markdown",
   "id": "3f9de9e1-09e3-4e30-b4aa-137cba6fa7fe",
   "metadata": {},
   "source": [
    "# Canonicalize the molecule' smiles "
   ]
  },
  {
   "cell_type": "code",
   "execution_count": 16,
   "id": "5f0ed88e-0327-409f-8c94-a54411c78984",
   "metadata": {},
   "outputs": [],
   "source": [
    "#Let's import the function named canonicalize_smiles\n",
    "from explosivity_and_unsaturations import canonicalize_smiles"
   ]
  },
  {
   "cell_type": "markdown",
   "id": "81c38d93-564f-4408-8954-43b79c36d436",
   "metadata": {},
   "source": [
    "This function accepts a smiles string f\n",
    "\n"
   ]
  },
  {
   "cell_type": "markdown",
   "id": "93586dc6-3489-4189-bc1a-70ab1b88940c",
   "metadata": {},
   "source": [
    "There are many ways to encode a molecule with a smiles.\n",
    "\n",
    "For example, we could encode carbon dioxyde with \"O=C=O\", or with \"C(=O)=O\"\n",
    "\n",
    "To make some order, and to reject smiles of the wrong format by raising errors. Canonicalization takes a smiles and transforms it into the standard notation smiles."
   ]
  },
  {
   "cell_type": "markdown",
   "id": "8b247d15-5987-4d47-9697-0907f2a9d3c4",
   "metadata": {},
   "source": [
    "Lets try our smiles for carbon dioxide"
   ]
  },
  {
   "cell_type": "code",
   "execution_count": 17,
   "id": "fe91aeec-790c-46cd-b2ac-145dc192c1c3",
   "metadata": {},
   "outputs": [
    {
     "name": "stdout",
     "output_type": "stream",
     "text": [
      "O=C=O\n",
      "O=C=O\n"
     ]
    }
   ],
   "source": [
    "print(canonicalize_smiles(\"O=C=O\"))\n",
    "print(canonicalize_smiles(\"C(=O)=O\"))"
   ]
  },
  {
   "cell_type": "markdown",
   "id": "32b6bf11-b243-4b38-94d1-5dc7008346fe",
   "metadata": {},
   "source": [
    "The two smiles depicting the same molecule was transformed into a single one\n",
    "\n",
    "Lets try with gibberish"
   ]
  },
  {
   "cell_type": "code",
   "execution_count": 18,
   "id": "6dd47060-1904-4398-a383-c8d57e9818e9",
   "metadata": {},
   "outputs": [
    {
     "name": "stderr",
     "output_type": "stream",
     "text": [
      "[20:59:09] SMILES Parse Error: syntax error while parsing: ghqgzcf\n",
      "[20:59:09] SMILES Parse Error: Failed parsing SMILES 'ghqgzcf' for input: 'ghqgzcf'\n"
     ]
    },
    {
     "ename": "ValueError",
     "evalue": "Could not convert input to mol",
     "output_type": "error",
     "traceback": [
      "\u001b[1;31m---------------------------------------------------------------------------\u001b[0m",
      "\u001b[1;31mValueError\u001b[0m                                Traceback (most recent call last)",
      "Cell \u001b[1;32mIn[18], line 1\u001b[0m\n\u001b[1;32m----> 1\u001b[0m \u001b[43mcanonicalize_smiles\u001b[49m\u001b[43m(\u001b[49m\u001b[38;5;124;43m\"\u001b[39;49m\u001b[38;5;124;43mghqgzcf\u001b[39;49m\u001b[38;5;124;43m\"\u001b[39;49m\u001b[43m)\u001b[49m\n",
      "File \u001b[1;32mc:\\users\\louis\\prog\\practical-programming-in-chemistry-exercises\\projeej\\explosivity_and_unsaturations\\explosivity_and_unsaturations\\boom.py:65\u001b[0m, in \u001b[0;36mcanonicalize_smiles\u001b[1;34m(smiles)\u001b[0m\n\u001b[0;32m     63\u001b[0m     \u001b[38;5;28;01mif\u001b[39;00m \u001b[38;5;18m__name__\u001b[39m \u001b[38;5;241m==\u001b[39m \u001b[38;5;124m'\u001b[39m\u001b[38;5;124m__main__\u001b[39m\u001b[38;5;124m'\u001b[39m:\n\u001b[0;32m     64\u001b[0m         messagebox\u001b[38;5;241m.\u001b[39mshowerror(\u001b[38;5;124m'\u001b[39m\u001b[38;5;124mWarning!\u001b[39m\u001b[38;5;124m'\u001b[39m, \u001b[38;5;124m\"\u001b[39m\u001b[38;5;124mCould not convert input to mol\u001b[39m\u001b[38;5;124m\"\u001b[39m)\n\u001b[1;32m---> 65\u001b[0m     \u001b[38;5;28;01mraise\u001b[39;00m \u001b[38;5;167;01mValueError\u001b[39;00m(\u001b[38;5;124m\"\u001b[39m\u001b[38;5;124mCould not convert input to mol\u001b[39m\u001b[38;5;124m\"\u001b[39m)\n\u001b[0;32m     66\u001b[0m \u001b[38;5;28;01mreturn\u001b[39;00m Chem\u001b[38;5;241m.\u001b[39mMolToSmiles(mol)\n",
      "\u001b[1;31mValueError\u001b[0m: Could not convert input to mol"
     ]
    }
   ],
   "source": [
    "canonicalize_smiles(\"ghqgzcf\")"
   ]
  },
  {
   "cell_type": "markdown",
   "id": "8af9a87f-4270-4eed-9a9e-35f9cdb7c265",
   "metadata": {},
   "source": [
    "Good, an error is raised.\n",
    "\n",
    "Trying with an impossible moecule \"C=O=O\"\n"
   ]
  },
  {
   "cell_type": "code",
   "execution_count": 19,
   "id": "7c4c5ac8-e0f4-441a-a44c-976cbfa9d766",
   "metadata": {},
   "outputs": [
    {
     "name": "stderr",
     "output_type": "stream",
     "text": [
      "[20:59:10] Explicit valence for atom # 1 O, 4, is greater than permitted\n"
     ]
    },
    {
     "ename": "ValueError",
     "evalue": "Could not convert input to mol",
     "output_type": "error",
     "traceback": [
      "\u001b[1;31m---------------------------------------------------------------------------\u001b[0m",
      "\u001b[1;31mValueError\u001b[0m                                Traceback (most recent call last)",
      "Cell \u001b[1;32mIn[19], line 1\u001b[0m\n\u001b[1;32m----> 1\u001b[0m \u001b[43mcanonicalize_smiles\u001b[49m\u001b[43m(\u001b[49m\u001b[38;5;124;43m\"\u001b[39;49m\u001b[38;5;124;43mC=O=O\u001b[39;49m\u001b[38;5;124;43m\"\u001b[39;49m\u001b[43m)\u001b[49m\n",
      "File \u001b[1;32mc:\\users\\louis\\prog\\practical-programming-in-chemistry-exercises\\projeej\\explosivity_and_unsaturations\\explosivity_and_unsaturations\\boom.py:65\u001b[0m, in \u001b[0;36mcanonicalize_smiles\u001b[1;34m(smiles)\u001b[0m\n\u001b[0;32m     63\u001b[0m     \u001b[38;5;28;01mif\u001b[39;00m \u001b[38;5;18m__name__\u001b[39m \u001b[38;5;241m==\u001b[39m \u001b[38;5;124m'\u001b[39m\u001b[38;5;124m__main__\u001b[39m\u001b[38;5;124m'\u001b[39m:\n\u001b[0;32m     64\u001b[0m         messagebox\u001b[38;5;241m.\u001b[39mshowerror(\u001b[38;5;124m'\u001b[39m\u001b[38;5;124mWarning!\u001b[39m\u001b[38;5;124m'\u001b[39m, \u001b[38;5;124m\"\u001b[39m\u001b[38;5;124mCould not convert input to mol\u001b[39m\u001b[38;5;124m\"\u001b[39m)\n\u001b[1;32m---> 65\u001b[0m     \u001b[38;5;28;01mraise\u001b[39;00m \u001b[38;5;167;01mValueError\u001b[39;00m(\u001b[38;5;124m\"\u001b[39m\u001b[38;5;124mCould not convert input to mol\u001b[39m\u001b[38;5;124m\"\u001b[39m)\n\u001b[0;32m     66\u001b[0m \u001b[38;5;28;01mreturn\u001b[39;00m Chem\u001b[38;5;241m.\u001b[39mMolToSmiles(mol)\n",
      "\u001b[1;31mValueError\u001b[0m: Could not convert input to mol"
     ]
    }
   ],
   "source": [
    "canonicalize_smiles(\"C=O=O\")"
   ]
  },
  {
   "cell_type": "markdown",
   "id": "5e4f9dde-c76e-4af0-bca1-0521864b73ee",
   "metadata": {},
   "source": [
    "If the valence is not respected, the error is raised."
   ]
  },
  {
   "cell_type": "code",
   "execution_count": 20,
   "id": "325e117e-0ebd-4441-9a20-31b8975a6265",
   "metadata": {},
   "outputs": [
    {
     "data": {
      "text/plain": [
       "'C=[O+2]=O'"
      ]
     },
     "execution_count": 20,
     "metadata": {},
     "output_type": "execute_result"
    }
   ],
   "source": [
    "canonicalize_smiles(\"C=[O++]=O\")"
   ]
  },
  {
   "cell_type": "markdown",
   "id": "9ebb8e18-7822-405a-b138-4977f74732cc",
   "metadata": {},
   "source": [
    "Now it works, because the charge is respected"
   ]
  }
 ],
 "metadata": {
  "kernelspec": {
   "display_name": "Python 3 (ipykernel)",
   "language": "python",
   "name": "python3"
  },
  "language_info": {
   "codemirror_mode": {
    "name": "ipython",
    "version": 3
   },
   "file_extension": ".py",
   "mimetype": "text/x-python",
   "name": "python",
   "nbconvert_exporter": "python",
   "pygments_lexer": "ipython3",
   "version": "3.10.14"
  }
 },
 "nbformat": 4,
 "nbformat_minor": 5
}
