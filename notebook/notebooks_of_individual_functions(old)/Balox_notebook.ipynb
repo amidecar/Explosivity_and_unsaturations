{
 "cells": [
  {
   "cell_type": "markdown",
   "id": "ef1edc8e-281c-4608-9993-b791f427f544",
   "metadata": {},
   "source": [
    "# Find the oxygen balance of a molecule from a smiles"
   ]
  },
  {
   "cell_type": "code",
   "execution_count": 6,
   "id": "f205b89a-1363-410d-b51e-7763a41bb1b9",
   "metadata": {},
   "outputs": [],
   "source": [
    "#Let's import the function named balox\n",
    "from explosivity_and_unsaturations import balox"
   ]
  },
  {
   "cell_type": "markdown",
   "id": "a95ea6b8-3d95-48d2-8d98-317fb1764dbf",
   "metadata": {},
   "source": [
    "Lets try this function on a simple molecule, methane, of smiles \"C\".\n",
    "\n",
    "Our function takes for input the string smiles of a molecule, and returns the oxygen balance as a float"
   ]
  },
  {
   "cell_type": "code",
   "execution_count": 7,
   "id": "1ad6ec86-7f58-4b04-8f36-f9e5eb1bb381",
   "metadata": {},
   "outputs": [
    {
     "data": {
      "text/plain": [
       "-398.92788131895543"
      ]
     },
     "execution_count": 7,
     "metadata": {},
     "output_type": "execute_result"
    }
   ],
   "source": [
    "balox(\"C\")\n"
   ]
  },
  {
   "cell_type": "markdown",
   "id": "cae88e59-dd83-4a1d-bae4-a29de74063d9",
   "metadata": {},
   "source": [
    "We see a simple result, a very negative float .\n",
    "\n",
    "Lets try with a similar molecule, but containing some oxygen: methanol of smiles \"CO\""
   ]
  },
  {
   "cell_type": "code",
   "execution_count": 8,
   "id": "0a66d54a-cbe9-48c3-babf-779370947173",
   "metadata": {},
   "outputs": [
    {
     "data": {
      "text/plain": [
       "-149.80338305973413"
      ]
     },
     "execution_count": 8,
     "metadata": {},
     "output_type": "execute_result"
    }
   ],
   "source": [
    "balox(\"CO\")"
   ]
  },
  {
   "cell_type": "markdown",
   "id": "99435481-ddad-4b3d-a42d-cbe7b9cb3c26",
   "metadata": {},
   "source": [
    "We see that the oxygen balance is higher\n",
    "\n",
    "Lets try a molecule containing even more oxygen, carbon dioxyde, of smiles \"OCO\""
   ]
  },
  {
   "cell_type": "code",
   "execution_count": 9,
   "id": "14ad5adc-385c-4d95-b7b8-7d1ca9914601",
   "metadata": {},
   "outputs": [
    {
     "data": {
      "text/plain": [
       "-0.0"
      ]
     },
     "execution_count": 9,
     "metadata": {},
     "output_type": "execute_result"
    }
   ],
   "source": [
    "balox(\"O=C=O\")"
   ]
  },
  {
   "cell_type": "markdown",
   "id": "b915903b-6525-4258-bb1e-e5c1b7385474",
   "metadata": {},
   "source": [
    "The oxygen balance is at 0, meaning that the molecule is fully oxydised\n",
    "\n",
    "Lets try adding more oxygen, and less carbon: ozone, of smile \"[O-][O+]=O\""
   ]
  },
  {
   "cell_type": "code",
   "execution_count": 10,
   "id": "197e1c6c-9516-4470-8bf8-27f4c9e24dea",
   "metadata": {},
   "outputs": [
    {
     "data": {
      "text/plain": [
       "100.00625039064941"
      ]
     },
     "execution_count": 10,
     "metadata": {},
     "output_type": "execute_result"
    }
   ],
   "source": [
    "balox(\"[O-][O+]=O\")"
   ]
  },
  {
   "cell_type": "markdown",
   "id": "26362787-4ee4-4b35-aff8-2b1b1ba61c36",
   "metadata": {},
   "source": [
    "Now the balance is very positive.\n",
    "\n",
    "We can conclude that this function outputs a float that indicates the oxygen excess or lack thereoff in a molecule. A positive oxygen balance means that the molecule contains an excess of oxygen, a negative balance means a lack of oxygen, and a neutral balance means that overal, the molecule is fully oxidized.\n"
   ]
  },
  {
   "cell_type": "markdown",
   "id": "4894bda2-c548-40c8-b72b-8fd598832499",
   "metadata": {},
   "source": [
    "### How could this be of any use ?\n",
    "\n",
    "The oxygen balance is important when pyrotechniques are developped or reaserched. For example, if a pyrotechnique mix has a lack of oxygen, the combustion gases may contain unreacted matter, possibly leading to the of clogging a rocket motor. Very low oxygen balance would result in an inert compound. An excess of oxygen may lead to the degradation of the container, or  result in an unstable compound. \n",
    "The oxygen balance is also used to classify explosives in terms of their instability.\n"
   ]
  },
  {
   "cell_type": "markdown",
   "id": "913ee2ff-112d-4738-a0b5-fa7d25efc4af",
   "metadata": {},
   "source": [
    "### What happenes in that function ?"
   ]
  },
  {
   "cell_type": "markdown",
   "id": "364369d0-075a-4163-81dd-afcae0dd6b8e",
   "metadata": {},
   "source": [
    "The formula behind the oxygen balance is as follows\n",
    "\n",
    "OB = -1600 (2X + Y/2 + M - Z)\n",
    "\n",
    "$$\n",
    "\\displaystyle\\frac{-1600 (2X + Y/2 + M - Z)}{MolecularWeight}\n",
    "$$\n",
    "\n",
    "With X the number of carbons, Y the number of hydrogens, M the number of metals, and Z the number of oxygens. \n",
    "This formula stems from the reaction of the molecule within itself\n",
    "$\n",
    "$\\]\n"
   ]
  }
 ],
 "metadata": {
  "kernelspec": {
   "display_name": "Python 3 (ipykernel)",
   "language": "python",
   "name": "python3"
  },
  "language_info": {
   "codemirror_mode": {
    "name": "ipython",
    "version": 3
   },
   "file_extension": ".py",
   "mimetype": "text/x-python",
   "name": "python",
   "nbconvert_exporter": "python",
   "pygments_lexer": "ipython3",
   "version": "3.10.14"
  }
 },
 "nbformat": 4,
 "nbformat_minor": 5
}
