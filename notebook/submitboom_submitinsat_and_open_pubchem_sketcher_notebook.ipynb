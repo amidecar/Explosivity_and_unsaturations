{
 "cells": [
  {
   "cell_type": "markdown",
   "id": "c23ae170-a83d-43d2-916c-fc1e05d6a5bf",
   "metadata": {},
   "source": [
    "# The functions that make the buttons work"
   ]
  },
  {
   "cell_type": "markdown",
   "id": "6c6bbc8e-7cde-4353-9bb5-0bd1d9575eb3",
   "metadata": {},
   "source": [
    "There isn't much to say about these functions, they are used in the main function to make the buttons work.\n",
    "The submitboom and submitinsat functions make the submit buttons of their respective tabs work.\n",
    "It doesn't make much sense to give examples for those."
   ]
  },
  {
   "cell_type": "markdown",
   "id": "02af2155-2888-4b18-aed0-4a14b13510fe",
   "metadata": {},
   "source": [
    "The open_pubchem_sketcher function is a bit more interesting, it makes the open pubchem sketcher button work on both tabs. It opens another tab on your internet browser where you can draw any molecule you like. On the top of the skecther, the smiles of he molecule is given. You can copy it into the other functions. This can be very useful if you don't know the smiles nor the iupac name of a molecule bur you know its structure. This function requires the internet to work."
   ]
  },
  {
   "cell_type": "code",
   "execution_count": 1,
   "id": "3b9a0148-de0a-4526-95e6-c602bc560b78",
   "metadata": {},
   "outputs": [],
   "source": [
    "#Let's test this last function\n",
    "from explosivity_and_unsaturations import open_pubchem_sketcher \n",
    "open_pubchem_sketcher()"
   ]
  }
 ],
 "metadata": {
  "kernelspec": {
   "display_name": "Python 3 (ipykernel)",
   "language": "python",
   "name": "python3"
  },
  "language_info": {
   "codemirror_mode": {
    "name": "ipython",
    "version": 3
   },
   "file_extension": ".py",
   "mimetype": "text/x-python",
   "name": "python",
   "nbconvert_exporter": "python",
   "pygments_lexer": "ipython3",
   "version": "3.10.14"
  }
 },
 "nbformat": 4,
 "nbformat_minor": 5
}
