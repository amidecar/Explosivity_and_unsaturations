{
 "cells": [
  {
   "cell_type": "markdown",
   "id": "758e0822-acc1-4f21-9207-1de298457c86",
   "metadata": {},
   "source": [
    "# The main function that links erverything together"
   ]
  },
  {
   "cell_type": "markdown",
   "id": "8d7e7bc6-42ab-4480-bfda-7ed0a9e8e7e3",
   "metadata": {},
   "source": [
    "There isn't much to say about this function, this function is not thought to be used in other function. It uses all the other functions and puts everything in a nice interface to use. \n",
    "\n",
    "Everytime the function is used, another window is opened which contains two tabs, one for the explosivity and one for the degree of unsaturation. To use those tabs, select if you want to use a smiles or a iupac name, enter your molecule and press the button submit on the interface or enter on your keyboard."
   ]
  },
  {
   "cell_type": "code",
   "execution_count": 1,
   "id": "3e54878c-cb13-452b-ad76-3290e32362b1",
   "metadata": {},
   "outputs": [],
   "source": [
    "# Let's import it, you can try to put smiles and iupac in it and see what comes out\n",
    "from explosivity_and_unsaturations import main\n",
    "main()"
   ]
  },
  {
   "cell_type": "markdown",
   "id": "075eee31-3a18-4b28-abee-a38f724d9ae7",
   "metadata": {},
   "source": [
    "If you close the window, the elements cotntained are temporarly destroyed, which means that you won't be able to open it again. "
   ]
  },
  {
   "cell_type": "code",
   "execution_count": 3,
   "id": "96ff614e-fa6f-48c8-ab4e-eefa088ec582",
   "metadata": {},
   "outputs": [
    {
     "ename": "TclError",
     "evalue": "can't invoke \"wm\" command: application has been destroyed",
     "output_type": "error",
     "traceback": [
      "\u001b[1;31m---------------------------------------------------------------------------\u001b[0m",
      "\u001b[1;31mTclError\u001b[0m                                  Traceback (most recent call last)",
      "Cell \u001b[1;32mIn[3], line 1\u001b[0m\n\u001b[1;32m----> 1\u001b[0m \u001b[43mmain\u001b[49m\u001b[43m(\u001b[49m\u001b[43m)\u001b[49m\n",
      "File \u001b[1;32mc:\\users\\amide\\desktop\\projeej\\explosivity_and_unsaturations\\explosivity_and_unsaturations\\boom.py:337\u001b[0m, in \u001b[0;36mmain\u001b[1;34m()\u001b[0m\n\u001b[0;32m    335\u001b[0m \u001b[38;5;28;01mdef\u001b[39;00m \u001b[38;5;21mmain\u001b[39m():\n\u001b[1;32m--> 337\u001b[0m     \u001b[43mwindow\u001b[49m\u001b[38;5;241;43m.\u001b[39;49m\u001b[43mtitle\u001b[49m\u001b[43m(\u001b[49m\u001b[38;5;124;43m\"\u001b[39;49m\u001b[38;5;124;43mexplositivity and degree of unsaturation\u001b[39;49m\u001b[38;5;124;43m\"\u001b[39;49m\u001b[43m)\u001b[49m\n\u001b[0;32m    338\u001b[0m     window\u001b[38;5;241m.\u001b[39mgeometry(\u001b[38;5;124m\"\u001b[39m\u001b[38;5;124m540x630\u001b[39m\u001b[38;5;124m\"\u001b[39m)\n\u001b[0;32m    339\u001b[0m     window\u001b[38;5;241m.\u001b[39mminsize(\u001b[38;5;241m540\u001b[39m,\u001b[38;5;241m630\u001b[39m)\n",
      "File \u001b[1;32m~\\miniconda3\\envs\\projeej_env\\lib\\tkinter\\__init__.py:2255\u001b[0m, in \u001b[0;36mWm.wm_title\u001b[1;34m(self, string)\u001b[0m\n\u001b[0;32m   2253\u001b[0m \u001b[38;5;28;01mdef\u001b[39;00m \u001b[38;5;21mwm_title\u001b[39m(\u001b[38;5;28mself\u001b[39m, string\u001b[38;5;241m=\u001b[39m\u001b[38;5;28;01mNone\u001b[39;00m):\n\u001b[0;32m   2254\u001b[0m \u001b[38;5;250m    \u001b[39m\u001b[38;5;124;03m\"\"\"Set the title of this widget.\"\"\"\u001b[39;00m\n\u001b[1;32m-> 2255\u001b[0m     \u001b[38;5;28;01mreturn\u001b[39;00m \u001b[38;5;28;43mself\u001b[39;49m\u001b[38;5;241;43m.\u001b[39;49m\u001b[43mtk\u001b[49m\u001b[38;5;241;43m.\u001b[39;49m\u001b[43mcall\u001b[49m\u001b[43m(\u001b[49m\u001b[38;5;124;43m'\u001b[39;49m\u001b[38;5;124;43mwm\u001b[39;49m\u001b[38;5;124;43m'\u001b[39;49m\u001b[43m,\u001b[49m\u001b[43m \u001b[49m\u001b[38;5;124;43m'\u001b[39;49m\u001b[38;5;124;43mtitle\u001b[39;49m\u001b[38;5;124;43m'\u001b[39;49m\u001b[43m,\u001b[49m\u001b[43m \u001b[49m\u001b[38;5;28;43mself\u001b[39;49m\u001b[38;5;241;43m.\u001b[39;49m\u001b[43m_w\u001b[49m\u001b[43m,\u001b[49m\u001b[43m \u001b[49m\u001b[43mstring\u001b[49m\u001b[43m)\u001b[49m\n",
      "\u001b[1;31mTclError\u001b[0m: can't invoke \"wm\" command: application has been destroyed"
     ]
    }
   ],
   "source": [
    "main()"
   ]
  },
  {
   "cell_type": "markdown",
   "id": "7d5e66ee-6dec-43ca-a76b-3fc0de5d86fc",
   "metadata": {},
   "source": [
    "You can reopen the window by opening another terminal and rerunning the function"
   ]
  }
 ],
 "metadata": {
  "kernelspec": {
   "display_name": "Python 3 (ipykernel)",
   "language": "python",
   "name": "python3"
  },
  "language_info": {
   "codemirror_mode": {
    "name": "ipython",
    "version": 3
   },
   "file_extension": ".py",
   "mimetype": "text/x-python",
   "name": "python",
   "nbconvert_exporter": "python",
   "pygments_lexer": "ipython3",
   "version": "3.10.14"
  }
 },
 "nbformat": 4,
 "nbformat_minor": 5
}
