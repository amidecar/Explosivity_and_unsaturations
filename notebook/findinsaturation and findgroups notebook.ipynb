{
 "cells": [
  {
   "cell_type": "markdown",
   "id": "72b656b7-b95e-4727-b5db-d09217d68cda",
   "metadata": {},
   "source": [
    "# Finding special explosible groups and unsaturations"
   ]
  },
  {
   "cell_type": "code",
   "execution_count": 31,
   "id": "ac7b6219-2ac9-4194-967e-00b6bdd1d1a6",
   "metadata": {},
   "outputs": [],
   "source": [
    "from explosivity_and_unsaturations import findgroups, findinsaturation\n",
    "# Importing our two functions"
   ]
  },
  {
   "cell_type": "markdown",
   "id": "e5d14f7c-1a84-4182-a651-491e9f2ea19d",
   "metadata": {},
   "source": [
    "Those function accepts a molecule smiles\n",
    "\n",
    "They output a dictionary containing for keys the *SMARTS* for the groups of interests (unsaturations and explosible groups), and for values tuples containing the indexes of the found insaturations atoms involved in the unsaturations and explosible groups\n"
   ]
  },
  {
   "cell_type": "markdown",
   "id": "2efcea2e-15fe-449f-913d-4da75be32ee4",
   "metadata": {},
   "source": [
    "Let's try those functions on the nitrotetrazole molecule of smiles \"C1=NN=NN1\\[N+](=O)[O-]\" "
   ]
  },
  {
   "cell_type": "code",
   "execution_count": 27,
   "id": "0f271794-fc87-437b-8193-504e7c5b8147",
   "metadata": {},
   "outputs": [
    {
     "data": {
      "image/png": "[encoded data removed]",
      "text/plain": [
       "<rdkit.Chem.rdchem.Mol at 0x248fd0c6180>"
      ]
     },
     "execution_count": 27,
     "metadata": {},
     "output_type": "execute_result"
    }
   ],
   "source": [
    "# Making sure to be able to display the molecule\n",
    "from rdkit import Chem\n",
    "from rdkit.Chem.Draw import IPythonConsole\n",
    "from rdkit.Chem import Draw\n",
    "IPythonConsole.molSize = 300,300\n",
    "\n",
    "smiles = \"C1=NN=NN1[N+](=O)[O-]\"\n",
    "# This is the smiles for nitrotetrazole\n",
    "mol = Chem.MolFromSmiles(smiles)\n",
    "# Creating the rdkit molecule object from the smiles\n",
    "mol"
   ]
  },
  {
   "cell_type": "markdown",
   "id": "c2521629-85b4-44f9-a543-80c5463b2d0b",
   "metadata": {},
   "source": [
    "We can graphicaly find the unsaturations and explosible groups in the molecule, but we can ask the function to make a dictionary to match for us the substructures."
   ]
  },
  {
   "cell_type": "code",
   "execution_count": 28,
   "id": "73cb50b2-0879-49a5-8141-31e5295a6b81",
   "metadata": {},
   "outputs": [
    {
     "data": {
      "text/plain": [
       "{'[#6]#[#6]': (),\n",
       " '[#6]=[#6]-[#6]=[#6]': (),\n",
       " '[#6-]': (),\n",
       " '[#6]-[Mg]': (),\n",
       " '[#6]-[Li]': (),\n",
       " '[#6]-[Cu]': (),\n",
       " '[#6]-[Ni]': (),\n",
       " '[#7-]-[#7+]#[#7]': (),\n",
       " '[#7]=[#7+]=[#7-]': (),\n",
       " '[#7]-[#7+]=[#7-][#7]=[#7]': (),\n",
       " 'nn': ((1, 2), (2, 3), (3, 4)),\n",
       " '[#7-]#[#7]': (),\n",
       " '[#7]-[#7]': ((4, 5),),\n",
       " '[#8]-[#8]': (),\n",
       " '[#8]-[#8]-[#8]': (),\n",
       " '[#6]-1-[#8]-[#8]-[#6]-[#8]-1': (),\n",
       " '[#7]-[#8]': ((5, 7),),\n",
       " '[#7]=[#8]': ((5, 6),),\n",
       " '[#7]#[#8]': (),\n",
       " '[#7]-[I]': (),\n",
       " '[#7]-[Br]': (),\n",
       " '[#7]-[Cl]': (),\n",
       " '[#7]-[F]': (),\n",
       " '[#7]=[I]': (),\n",
       " '[#7]=[Br]': (),\n",
       " '[#7]=[Cl]': (),\n",
       " '[#7]=[F]': (),\n",
       " '[#8]-[I]': (),\n",
       " '[#8]-[F]': (),\n",
       " '[#8]-[Br]': (),\n",
       " '[#8]-[Cl]': (),\n",
       " '[#8]=[I]': (),\n",
       " '[#8]=[Br]': (),\n",
       " '[#8]=[Cl]': (),\n",
       " '[#8]=[F]': (),\n",
       " '[#6]#[#7+]-[#8-]': (),\n",
       " '[Ag+].[N-3]': ()}"
      ]
     },
     "execution_count": 28,
     "metadata": {},
     "output_type": "execute_result"
    }
   ],
   "source": [
    "dico = findgroups(smiles)\n",
    "dico"
   ]
  },
  {
   "cell_type": "markdown",
   "id": "3b948285-ba6b-4c66-9332-d5a9e4fb907d",
   "metadata": {},
   "source": [
    "We can see that the dictionary is mostly empty, except for the *SMARTS* \n",
    "\n",
    "- nn = aromatic Nitrogen-Nitrogen bond\n",
    "- [#7]-[#8] = single Nitrogen-Oxygen bond\n",
    "- [#7]=[#8] = double Nitrogen-Oxygen bond\n",
    "- [#7]-[#7] = single Nitrogen-Nitrogen bond\n",
    "\n"
   ]
  },
  {
   "cell_type": "markdown",
   "id": "f24efdc7-a23c-4dee-878c-143a1ce2e0eb",
   "metadata": {},
   "source": [
    "Lets try the **findinsaturation** function on the same molecule"
   ]
  },
  {
   "cell_type": "code",
   "execution_count": 30,
   "id": "fbeac907-a57f-440e-999b-831b1da6d538",
   "metadata": {},
   "outputs": [
    {
     "data": {
      "text/plain": [
       "{'[*]=[*]': ((5, 6),),\n",
       " '[*]#[*]': (),\n",
       " 'aa': ((0, 1), (0, 4), (1, 2), (2, 3), (3, 4)),\n",
       " '[*]@[*]': ((0, 1), (0, 4), (1, 2), (2, 3), (3, 4))}"
      ]
     },
     "execution_count": 30,
     "metadata": {},
     "output_type": "execute_result"
    }
   ],
   "source": [
    "dico = findinsaturation(smiles)\n",
    "dico"
   ]
  },
  {
   "cell_type": "markdown",
   "id": "b2ab518a-78e8-40c6-8952-a34177e64a77",
   "metadata": {},
   "source": [
    "The dictionary found double bonds and aromatic bonds. \n",
    "\n",
    "Why are the results for 'aa' and '[\\*]@[*]' the same ?\n",
    "\n",
    "'aa' is an aromatic bond under smiles notation, and '[\\*]@[*]' is aromatic under smarts notation.\n",
    "Like this no edge cases are missed. "
   ]
  },
  {
   "cell_type": "markdown",
   "id": "631b523e-e25a-4e4f-8855-85caa12066d9",
   "metadata": {},
   "source": [
    "### What groups can be found by *findgroups* ?"
   ]
  },
  {
   "cell_type": "markdown",
   "id": "bbade247-bfbb-4206-ac64-c76dc7a127a9",
   "metadata": {},
   "source": [
    "The function can find:\n",
    "- acetylides\n",
    "- 1,3-dienes\n",
    "- Grignard and organilithium reagents\n",
    "- azide and azo compounds\n",
    "- diazonium salts\n",
    "- hydrazines\n",
    "- peroxides\n",
    "- ozodides\n",
    "- hydroxylamines\n",
    "- nitrates, nitrites\n",
    "- N-oxydes\n",
    "- oxazole\n",
    "- hypochlorites, chlorites, chlorates, perchlorates\n",
    "- fluoramines, chloramines, bromamines, iodamines\n",
    "- fulminates\n",
    "- silver nitride"
   ]
  },
  {
   "cell_type": "code",
   "execution_count": null,
   "id": "c123584a-55d4-40d6-bd26-81319b26682e",
   "metadata": {},
   "outputs": [],
   "source": []
  }
 ],
 "metadata": {
  "kernelspec": {
   "display_name": "Python 3 (ipykernel)",
   "language": "python",
   "name": "python3"
  },
  "language_info": {
   "codemirror_mode": {
    "name": "ipython",
    "version": 3
   },
   "file_extension": ".py",
   "mimetype": "text/x-python",
   "name": "python",
   "nbconvert_exporter": "python",
   "pygments_lexer": "ipython3",
   "version": "3.10.13"
  }
 },
 "nbformat": 4,
 "nbformat_minor": 5
}
